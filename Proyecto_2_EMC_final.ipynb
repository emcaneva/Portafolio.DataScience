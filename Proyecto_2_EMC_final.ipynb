{
 "cells": [
  {
   "cell_type": "markdown",
   "metadata": {
    "colab_type": "text",
    "id": "_cCqVYVbJ9ts"
   },
   "source": [
    "# Proyecto 2 - Emanuel Caneva :  Análisis de mercado inmobiliario\n",
    "\n",
    "El objetivo es aplicar las técnicas incorporadas (Transformación de Datos, Optimización de Hiperparámetros, Modelos Avanzados, etc.) para generar un modelo que tenga un mejor desempeño que el modelo generado en el proyecto anterior. Luego, interpreta ese modelo para responder la siguiente pregunta: ¿qué podemos aprender de nuestro problema estudiando el modelo que generamos?\n",
    "\n",
    "El trabajo se organiza en tres partes:\n",
    "\n",
    "## PARTE A - Transformación de Datos\n",
    "\n",
    "Elige cuáles de las siguientes tareas son apropiadas para su dataset. Justifica e implementa:\n",
    "\n",
    "    1.Detección y eliminación de Outliers\n",
    "\n",
    "    2.Encoding\n",
    "\n",
    "    3.Imputación de valores faltantes\n",
    "\n",
    "    4.Escalado de datos\n",
    "\n",
    "    5.Generación de nuevas variables predictoras/reducción de dimensionalidad (SVD/PCA).\n",
    "\n",
    "Vuelve a entrenar el modelo implementado en la Entrega 01 - en particular, el árbol de decisión - y evalúa su desempeño a partir del dataset obtenido luego de transformar los datos. ¿Hay una mejora en su desempeño? Sea cual sea la respuesta, intenta explicar a qué se debe.\n",
    "\n",
    "## PARTE B - Modelos Avanzados\n",
    "\n",
    "Elige dos de los modelos avanzados vistos (en el caso de regresión, considera una regresión lineal con atributos polinómicos y regularización). Entrénalos y evalúalos con sus argumentos por defecto. No te olvides de hacer un train/test split y usar Validación Cruzada.\n",
    "\n",
    "Optimiza sus hiperparámetros mediante Validación Cruzada y Grid Search o Random Search.\n",
    "\n",
    "Compara el desempeño de los nuevos modelos entre sí y con el modelo de la Parte A. ¿Cuál elegirías? Justifica.\n",
    "\n",
    "## PARTE C - Interpretación de modelos\n",
    "\n",
    "De acuerdo a lo que el modelo permite, responde algunas o todas las siguientes preguntas:\n",
    "\n",
    "¿Qué variables fueron relevantes para el modelo para hacer una predicción? ¿Cuáles no? Si usaste una regresión lineal con regularización, presta atención a los parámetros (pendientes) obtenidas. Si usaste un modelo de ensamble en árboles, además de ver la importancia de cada atributo, también elige algunos árboles al azar y observa qué atributos considera importantes. ¿En qué se diferencian esos árboles? ¿Por qué? Finalmente, responde, ¿coincide con lo que esperabas a partir de tu experiencia con este dataset?\n",
    "\n",
    "¿Cómo es la distribución de errores (regresión) o qué clases se confunden entre sí (clasificación)? ¿Dónde falla? ¿A qué se debe?\n",
    "\n",
    " **DESAFÍO OPCIONAL**\n",
    "\n",
    "Aplica una técnica de Clustering sobre el dataset. Puedes combinar con técnicas de reducción de dimensionalidad para facilitar la visualización. ¿Qué clusters encuentras? ¿A qué pueden corresponder? Te dejamos preguntas que pueden servir como disparadoras: ¿qué barrios se parecen más entre sí?¿qué tipos de propiedades se parecen más entre sí?"
   ]
  },
  {
   "cell_type": "markdown",
   "metadata": {
    "colab_type": "text",
    "id": "cgLlib1FJ9tw"
   },
   "source": [
    "\n",
    "\n",
    "## PARTE A - Transformación de Datos"
   ]
  },
  {
   "cell_type": "markdown",
   "metadata": {
    "colab_type": "text",
    "id": "8zbi4VZPJ9tz"
   },
   "source": [
    "*Importo las librerías necesarias*"
   ]
  },
  {
   "cell_type": "code",
   "execution_count": 1,
   "metadata": {
    "colab": {
     "base_uri": "https://localhost:8080/",
     "height": 71
    },
    "colab_type": "code",
    "id": "5CLC5ZF_J9t2",
    "outputId": "e505b172-3470-4b0e-babf-c054b5140ada"
   },
   "outputs": [],
   "source": [
    "import numpy as np\n",
    "import pandas as pd\n",
    "import seaborn as sns\n",
    "import matplotlib.pyplot as plt\n",
    "\n",
    "from sklearn.impute import SimpleImputer\n",
    "\n",
    "from sklearn.preprocessing import StandardScaler\n",
    "from sklearn.preprocessing import OneHotEncoder\n",
    "from sklearn.preprocessing import LabelEncoder\n",
    "\n",
    "from sklearn.model_selection import train_test_split\n",
    "from sklearn.model_selection import cross_val_score\n",
    "from sklearn.model_selection import RandomizedSearchCV\n",
    "from sklearn.model_selection import GridSearchCV\n",
    "\n",
    "from sklearn.tree import DecisionTreeRegressor\n",
    "from sklearn.neighbors import KNeighborsRegressor\n",
    "\n",
    "from sklearn.metrics import mean_squared_error\n",
    "\n",
    "from sklearn.preprocessing import PolynomialFeatures\n",
    "\n",
    "from sklearn.linear_model import LinearRegression\n",
    "from sklearn.linear_model import Ridge, Lasso\n",
    "\n",
    "from sklearn.ensemble import RandomForestClassifier\n",
    "\n",
    "from sklearn.decomposition import TruncatedSVD\n",
    "\n",
    "from sklearn.cluster import KMeans\n",
    "\n",
    "import warnings\n",
    "warnings.filterwarnings('ignore')"
   ]
  },
  {
   "cell_type": "markdown",
   "metadata": {
    "colab_type": "text",
    "id": "i9x-93_dJ9uE"
   },
   "source": [
    "*Cargo el dataset y exploro*"
   ]
  },
  {
   "cell_type": "code",
   "execution_count": 2,
   "metadata": {
    "colab": {
     "base_uri": "https://localhost:8080/",
     "height": 34
    },
    "colab_type": "code",
    "id": "dZXDA2ukJ9uG",
    "outputId": "ff88da25-57b9-4a62-a48e-90682c692426"
   },
   "outputs": [
    {
     "data": {
      "text/plain": [
       "(146660, 19)"
      ]
     },
     "execution_count": 2,
     "metadata": {},
     "output_type": "execute_result"
    }
   ],
   "source": [
    "dataset_properati = pd.read_csv(\"DS_Proyecto_01_Datos_Properati.csv\")\n",
    "\n",
    "dataset_properati.shape"
   ]
  },
  {
   "cell_type": "code",
   "execution_count": 4,
   "metadata": {
    "colab": {
     "base_uri": "https://localhost:8080/",
     "height": 317
    },
    "colab_type": "code",
    "id": "Wb3mf0ndJ9uR",
    "outputId": "ff8d6513-db5e-4242-e2d4-186229e55b8c"
   },
   "outputs": [
    {
     "data": {
      "text/html": [
       "<div>\n",
       "<style scoped>\n",
       "    .dataframe tbody tr th:only-of-type {\n",
       "        vertical-align: middle;\n",
       "    }\n",
       "\n",
       "    .dataframe tbody tr th {\n",
       "        vertical-align: top;\n",
       "    }\n",
       "\n",
       "    .dataframe thead th {\n",
       "        text-align: right;\n",
       "    }\n",
       "</style>\n",
       "<table border=\"1\" class=\"dataframe\">\n",
       "  <thead>\n",
       "    <tr style=\"text-align: right;\">\n",
       "      <th></th>\n",
       "      <th>lat</th>\n",
       "      <th>lon</th>\n",
       "      <th>rooms</th>\n",
       "      <th>bedrooms</th>\n",
       "      <th>bathrooms</th>\n",
       "      <th>surface_total</th>\n",
       "      <th>surface_covered</th>\n",
       "      <th>price</th>\n",
       "    </tr>\n",
       "  </thead>\n",
       "  <tbody>\n",
       "    <tr>\n",
       "      <th>count</th>\n",
       "      <td>136735.000000</td>\n",
       "      <td>136701.000000</td>\n",
       "      <td>146660.000000</td>\n",
       "      <td>146660.000000</td>\n",
       "      <td>140703.000000</td>\n",
       "      <td>126133.000000</td>\n",
       "      <td>125046.000000</td>\n",
       "      <td>1.466600e+05</td>\n",
       "    </tr>\n",
       "    <tr>\n",
       "      <th>mean</th>\n",
       "      <td>-34.604896</td>\n",
       "      <td>-58.465304</td>\n",
       "      <td>3.079817</td>\n",
       "      <td>1.983240</td>\n",
       "      <td>1.599994</td>\n",
       "      <td>216.872888</td>\n",
       "      <td>112.818011</td>\n",
       "      <td>2.412211e+05</td>\n",
       "    </tr>\n",
       "    <tr>\n",
       "      <th>std</th>\n",
       "      <td>0.468428</td>\n",
       "      <td>0.486190</td>\n",
       "      <td>1.416352</td>\n",
       "      <td>1.151304</td>\n",
       "      <td>0.889324</td>\n",
       "      <td>2037.606649</td>\n",
       "      <td>916.857584</td>\n",
       "      <td>3.185195e+05</td>\n",
       "    </tr>\n",
       "    <tr>\n",
       "      <th>min</th>\n",
       "      <td>-35.318457</td>\n",
       "      <td>-180.000000</td>\n",
       "      <td>1.000000</td>\n",
       "      <td>0.000000</td>\n",
       "      <td>1.000000</td>\n",
       "      <td>10.000000</td>\n",
       "      <td>1.000000</td>\n",
       "      <td>5.500000e+03</td>\n",
       "    </tr>\n",
       "    <tr>\n",
       "      <th>25%</th>\n",
       "      <td>-34.627667</td>\n",
       "      <td>-58.504012</td>\n",
       "      <td>2.000000</td>\n",
       "      <td>1.000000</td>\n",
       "      <td>1.000000</td>\n",
       "      <td>52.000000</td>\n",
       "      <td>47.000000</td>\n",
       "      <td>1.110000e+05</td>\n",
       "    </tr>\n",
       "    <tr>\n",
       "      <th>50%</th>\n",
       "      <td>-34.600943</td>\n",
       "      <td>-58.443262</td>\n",
       "      <td>3.000000</td>\n",
       "      <td>2.000000</td>\n",
       "      <td>1.000000</td>\n",
       "      <td>78.000000</td>\n",
       "      <td>68.000000</td>\n",
       "      <td>1.660000e+05</td>\n",
       "    </tr>\n",
       "    <tr>\n",
       "      <th>75%</th>\n",
       "      <td>-34.574600</td>\n",
       "      <td>-58.407586</td>\n",
       "      <td>4.000000</td>\n",
       "      <td>3.000000</td>\n",
       "      <td>2.000000</td>\n",
       "      <td>140.000000</td>\n",
       "      <td>108.000000</td>\n",
       "      <td>2.650000e+05</td>\n",
       "    </tr>\n",
       "    <tr>\n",
       "      <th>max</th>\n",
       "      <td>85.051129</td>\n",
       "      <td>-57.805832</td>\n",
       "      <td>35.000000</td>\n",
       "      <td>15.000000</td>\n",
       "      <td>14.000000</td>\n",
       "      <td>193549.000000</td>\n",
       "      <td>126062.000000</td>\n",
       "      <td>3.243423e+07</td>\n",
       "    </tr>\n",
       "  </tbody>\n",
       "</table>\n",
       "</div>"
      ],
      "text/plain": [
       "                 lat            lon  ...  surface_covered         price\n",
       "count  136735.000000  136701.000000  ...    125046.000000  1.466600e+05\n",
       "mean      -34.604896     -58.465304  ...       112.818011  2.412211e+05\n",
       "std         0.468428       0.486190  ...       916.857584  3.185195e+05\n",
       "min       -35.318457    -180.000000  ...         1.000000  5.500000e+03\n",
       "25%       -34.627667     -58.504012  ...        47.000000  1.110000e+05\n",
       "50%       -34.600943     -58.443262  ...        68.000000  1.660000e+05\n",
       "75%       -34.574600     -58.407586  ...       108.000000  2.650000e+05\n",
       "max        85.051129     -57.805832  ...    126062.000000  3.243423e+07\n",
       "\n",
       "[8 rows x 8 columns]"
      ]
     },
     "execution_count": 4,
     "metadata": {
      "tags": []
     },
     "output_type": "execute_result"
    }
   ],
   "source": [
    "dataset_properati.describe()"
   ]
  },
  {
   "cell_type": "code",
   "execution_count": 5,
   "metadata": {
    "colab": {
     "base_uri": "https://localhost:8080/",
     "height": 530
    },
    "colab_type": "code",
    "id": "jAPaUf6U72xa",
    "outputId": "9656653d-75bc-41c3-c1db-00e89b410363"
   },
   "outputs": [
    {
     "data": {
      "text/html": [
       "<div>\n",
       "<style scoped>\n",
       "    .dataframe tbody tr th:only-of-type {\n",
       "        vertical-align: middle;\n",
       "    }\n",
       "\n",
       "    .dataframe tbody tr th {\n",
       "        vertical-align: top;\n",
       "    }\n",
       "\n",
       "    .dataframe thead th {\n",
       "        text-align: right;\n",
       "    }\n",
       "</style>\n",
       "<table border=\"1\" class=\"dataframe\">\n",
       "  <thead>\n",
       "    <tr style=\"text-align: right;\">\n",
       "      <th></th>\n",
       "      <th>start_date</th>\n",
       "      <th>end_date</th>\n",
       "      <th>created_on</th>\n",
       "      <th>lat</th>\n",
       "      <th>lon</th>\n",
       "      <th>l1</th>\n",
       "      <th>l2</th>\n",
       "      <th>l3</th>\n",
       "      <th>rooms</th>\n",
       "      <th>bedrooms</th>\n",
       "      <th>bathrooms</th>\n",
       "      <th>surface_total</th>\n",
       "      <th>surface_covered</th>\n",
       "      <th>price</th>\n",
       "      <th>currency</th>\n",
       "      <th>title</th>\n",
       "      <th>description</th>\n",
       "      <th>property_type</th>\n",
       "      <th>operation_type</th>\n",
       "    </tr>\n",
       "  </thead>\n",
       "  <tbody>\n",
       "    <tr>\n",
       "      <th>0</th>\n",
       "      <td>2019-10-17</td>\n",
       "      <td>2019-12-23</td>\n",
       "      <td>2019-10-17</td>\n",
       "      <td>-34.605880</td>\n",
       "      <td>-58.384949</td>\n",
       "      <td>Argentina</td>\n",
       "      <td>Capital Federal</td>\n",
       "      <td>San Cristobal</td>\n",
       "      <td>7.0</td>\n",
       "      <td>7.0</td>\n",
       "      <td>2.0</td>\n",
       "      <td>140.0</td>\n",
       "      <td>140.0</td>\n",
       "      <td>153000.0</td>\n",
       "      <td>USD</td>\n",
       "      <td>***Venta semipiso centro, ideal hostel*****</td>\n",
       "      <td>DESCRIPCION DE LA PROPIEDAD: Departamento de 1...</td>\n",
       "      <td>Departamento</td>\n",
       "      <td>Venta</td>\n",
       "    </tr>\n",
       "    <tr>\n",
       "      <th>1</th>\n",
       "      <td>2019-10-17</td>\n",
       "      <td>2019-11-21</td>\n",
       "      <td>2019-10-17</td>\n",
       "      <td>-34.624056</td>\n",
       "      <td>-58.412110</td>\n",
       "      <td>Argentina</td>\n",
       "      <td>Capital Federal</td>\n",
       "      <td>Boedo</td>\n",
       "      <td>2.0</td>\n",
       "      <td>1.0</td>\n",
       "      <td>2.0</td>\n",
       "      <td>70.0</td>\n",
       "      <td>58.0</td>\n",
       "      <td>159000.0</td>\n",
       "      <td>USD</td>\n",
       "      <td>Espectacular PH reciclado en Boedo sin expensas.</td>\n",
       "      <td>PH reciclado en Boedo a una cuadra de la plaz...</td>\n",
       "      <td>PH</td>\n",
       "      <td>Venta</td>\n",
       "    </tr>\n",
       "    <tr>\n",
       "      <th>2</th>\n",
       "      <td>2019-10-17</td>\n",
       "      <td>2019-11-01</td>\n",
       "      <td>2019-10-17</td>\n",
       "      <td>-34.593569</td>\n",
       "      <td>-58.427474</td>\n",
       "      <td>Argentina</td>\n",
       "      <td>Capital Federal</td>\n",
       "      <td>Palermo</td>\n",
       "      <td>2.0</td>\n",
       "      <td>1.0</td>\n",
       "      <td>1.0</td>\n",
       "      <td>45.0</td>\n",
       "      <td>45.0</td>\n",
       "      <td>125000.0</td>\n",
       "      <td>USD</td>\n",
       "      <td>Depto.tipo casa de 2 ambientes en Venta en Pal...</td>\n",
       "      <td>2 ambienets amplio , excelente estado , patio ...</td>\n",
       "      <td>PH</td>\n",
       "      <td>Venta</td>\n",
       "    </tr>\n",
       "    <tr>\n",
       "      <th>3</th>\n",
       "      <td>2019-10-17</td>\n",
       "      <td>2019-12-23</td>\n",
       "      <td>2019-10-17</td>\n",
       "      <td>-34.581294</td>\n",
       "      <td>-58.436754</td>\n",
       "      <td>Argentina</td>\n",
       "      <td>Capital Federal</td>\n",
       "      <td>Palermo</td>\n",
       "      <td>2.0</td>\n",
       "      <td>1.0</td>\n",
       "      <td>1.0</td>\n",
       "      <td>85.0</td>\n",
       "      <td>50.0</td>\n",
       "      <td>295000.0</td>\n",
       "      <td>USD</td>\n",
       "      <td>COSTA RICA 5800 / PALERMO HOLLYWOOD / VENTA PH...</td>\n",
       "      <td>HERMOSO PH EN PALERMO!!!2 AMBIENTES TOTALMENTE...</td>\n",
       "      <td>PH</td>\n",
       "      <td>Venta</td>\n",
       "    </tr>\n",
       "    <tr>\n",
       "      <th>4</th>\n",
       "      <td>2019-10-17</td>\n",
       "      <td>2020-03-11</td>\n",
       "      <td>2019-10-17</td>\n",
       "      <td>-34.914194</td>\n",
       "      <td>-57.938219</td>\n",
       "      <td>Argentina</td>\n",
       "      <td>Bs.As. G.B.A. Zona Sur</td>\n",
       "      <td>La Plata</td>\n",
       "      <td>2.0</td>\n",
       "      <td>1.0</td>\n",
       "      <td>1.0</td>\n",
       "      <td>50.0</td>\n",
       "      <td>35.0</td>\n",
       "      <td>40000.0</td>\n",
       "      <td>USD</td>\n",
       "      <td>58 entre 1 y 2  Venta de departamento en ph.1 ...</td>\n",
       "      <td>58 entre 1 y 2  Venta de departamento en PH. P...</td>\n",
       "      <td>PH</td>\n",
       "      <td>Venta</td>\n",
       "    </tr>\n",
       "  </tbody>\n",
       "</table>\n",
       "</div>"
      ],
      "text/plain": [
       "   start_date    end_date  ... property_type  operation_type\n",
       "0  2019-10-17  2019-12-23  ...  Departamento           Venta\n",
       "1  2019-10-17  2019-11-21  ...            PH           Venta\n",
       "2  2019-10-17  2019-11-01  ...            PH           Venta\n",
       "3  2019-10-17  2019-12-23  ...            PH           Venta\n",
       "4  2019-10-17  2020-03-11  ...            PH           Venta\n",
       "\n",
       "[5 rows x 19 columns]"
      ]
     },
     "execution_count": 5,
     "metadata": {
      "tags": []
     },
     "output_type": "execute_result"
    }
   ],
   "source": [
    "dataset_properati.head()"
   ]
  },
  {
   "cell_type": "markdown",
   "metadata": {
    "colab_type": "text",
    "id": "xGIlawCw72xd"
   },
   "source": [
    "*Filtro el dataset*"
   ]
  },
  {
   "cell_type": "code",
   "execution_count": 6,
   "metadata": {
    "colab": {},
    "colab_type": "code",
    "id": "MZXZuX2c72xd"
   },
   "outputs": [],
   "source": [
    "#En este punto filtro el dataset tal como en el Proyecto 1 para luego también comparar con los resultados obtenidos \n",
    "#anteriormente,toma Departamento, Casa y PH para Capital y que la superficie cubierta sea menor o igual a la total\n",
    "dataset_properati=dataset_properati[(dataset_properati.property_type.isin(['Departamento','Casa','PH'])) & (dataset_properati.l2 == 'Capital Federal') & (dataset_properati['surface_covered']<=dataset_properati['surface_total'])]"
   ]
  },
  {
   "cell_type": "code",
   "execution_count": 7,
   "metadata": {
    "colab": {
     "base_uri": "https://localhost:8080/",
     "height": 34
    },
    "colab_type": "code",
    "id": "dLenDUbR72xg",
    "outputId": "0da2ce1d-cb61-4161-a49b-7398ca0535be"
   },
   "outputs": [
    {
     "data": {
      "text/plain": [
       "(81291, 19)"
      ]
     },
     "execution_count": 7,
     "metadata": {
      "tags": []
     },
     "output_type": "execute_result"
    }
   ],
   "source": [
    "dataset_properati.shape"
   ]
  },
  {
   "cell_type": "markdown",
   "metadata": {
    "colab_type": "text",
    "id": "sPUHE6pO72xj"
   },
   "source": [
    "*Elimino las columnas que no voy a usar para predecir*"
   ]
  },
  {
   "cell_type": "code",
   "execution_count": 8,
   "metadata": {
    "colab": {
     "base_uri": "https://localhost:8080/",
     "height": 204
    },
    "colab_type": "code",
    "id": "gzMAcAlz72xj",
    "outputId": "173d1474-7f38-4580-a6d4-d82c65d318fb"
   },
   "outputs": [
    {
     "data": {
      "text/html": [
       "<div>\n",
       "<style scoped>\n",
       "    .dataframe tbody tr th:only-of-type {\n",
       "        vertical-align: middle;\n",
       "    }\n",
       "\n",
       "    .dataframe tbody tr th {\n",
       "        vertical-align: top;\n",
       "    }\n",
       "\n",
       "    .dataframe thead th {\n",
       "        text-align: right;\n",
       "    }\n",
       "</style>\n",
       "<table border=\"1\" class=\"dataframe\">\n",
       "  <thead>\n",
       "    <tr style=\"text-align: right;\">\n",
       "      <th></th>\n",
       "      <th>l2</th>\n",
       "      <th>l3</th>\n",
       "      <th>rooms</th>\n",
       "      <th>bedrooms</th>\n",
       "      <th>bathrooms</th>\n",
       "      <th>surface_total</th>\n",
       "      <th>surface_covered</th>\n",
       "      <th>price</th>\n",
       "      <th>property_type</th>\n",
       "    </tr>\n",
       "  </thead>\n",
       "  <tbody>\n",
       "    <tr>\n",
       "      <th>0</th>\n",
       "      <td>Capital Federal</td>\n",
       "      <td>San Cristobal</td>\n",
       "      <td>7.0</td>\n",
       "      <td>7.0</td>\n",
       "      <td>2.0</td>\n",
       "      <td>140.0</td>\n",
       "      <td>140.0</td>\n",
       "      <td>153000.0</td>\n",
       "      <td>Departamento</td>\n",
       "    </tr>\n",
       "    <tr>\n",
       "      <th>1</th>\n",
       "      <td>Capital Federal</td>\n",
       "      <td>Boedo</td>\n",
       "      <td>2.0</td>\n",
       "      <td>1.0</td>\n",
       "      <td>2.0</td>\n",
       "      <td>70.0</td>\n",
       "      <td>58.0</td>\n",
       "      <td>159000.0</td>\n",
       "      <td>PH</td>\n",
       "    </tr>\n",
       "    <tr>\n",
       "      <th>2</th>\n",
       "      <td>Capital Federal</td>\n",
       "      <td>Palermo</td>\n",
       "      <td>2.0</td>\n",
       "      <td>1.0</td>\n",
       "      <td>1.0</td>\n",
       "      <td>45.0</td>\n",
       "      <td>45.0</td>\n",
       "      <td>125000.0</td>\n",
       "      <td>PH</td>\n",
       "    </tr>\n",
       "    <tr>\n",
       "      <th>3</th>\n",
       "      <td>Capital Federal</td>\n",
       "      <td>Palermo</td>\n",
       "      <td>2.0</td>\n",
       "      <td>1.0</td>\n",
       "      <td>1.0</td>\n",
       "      <td>85.0</td>\n",
       "      <td>50.0</td>\n",
       "      <td>295000.0</td>\n",
       "      <td>PH</td>\n",
       "    </tr>\n",
       "    <tr>\n",
       "      <th>5</th>\n",
       "      <td>Capital Federal</td>\n",
       "      <td>Villa Crespo</td>\n",
       "      <td>2.0</td>\n",
       "      <td>1.0</td>\n",
       "      <td>1.0</td>\n",
       "      <td>56.0</td>\n",
       "      <td>56.0</td>\n",
       "      <td>150000.0</td>\n",
       "      <td>PH</td>\n",
       "    </tr>\n",
       "  </tbody>\n",
       "</table>\n",
       "</div>"
      ],
      "text/plain": [
       "                l2             l3  ...     price  property_type\n",
       "0  Capital Federal  San Cristobal  ...  153000.0   Departamento\n",
       "1  Capital Federal          Boedo  ...  159000.0             PH\n",
       "2  Capital Federal        Palermo  ...  125000.0             PH\n",
       "3  Capital Federal        Palermo  ...  295000.0             PH\n",
       "5  Capital Federal   Villa Crespo  ...  150000.0             PH\n",
       "\n",
       "[5 rows x 9 columns]"
      ]
     },
     "execution_count": 8,
     "metadata": {
      "tags": []
     },
     "output_type": "execute_result"
    }
   ],
   "source": [
    "#De acuerdo a lo reslizado en el Proyecto 1 descarto las columnas que no voy a usar\n",
    "dataset_properati = dataset_properati.drop(['lat','lon','start_date','end_date','l1','created_on','currency','title','description','operation_type'],axis = 'columns')\n",
    "dataset_properati.head()"
   ]
  },
  {
   "cell_type": "markdown",
   "metadata": {
    "colab_type": "text",
    "id": "dbCU-M6lJ9uY"
   },
   "source": [
    "**A.1 - Detección y eliminación de Outliers**\n",
    "\n",
    "Si bien por el Proyecto 1 ya tengo conocimiento que el dataset posee varios outliers, voy a estudiar la distribución de cada variable antes de aplicar esta técnica, considero apropiada por lo expresado anteriormente y considero que puede mejorar el desempeño del modelo"
   ]
  },
  {
   "cell_type": "markdown",
   "metadata": {
    "colab_type": "text",
    "id": "FHfZbPftJ9uZ"
   },
   "source": [
    "*Defino una funcion para eliminar los outliers a través del Rango Intercuartílico, la misma recibe como argumento un dataset\n",
    "y la variable a la cual se le eliminaran los outliers, devuelve un filtro con los datos a eliminar*"
   ]
  },
  {
   "cell_type": "code",
   "execution_count": 9,
   "metadata": {
    "colab": {},
    "colab_type": "code",
    "id": "RsNXogcVJ9ua"
   },
   "outputs": [],
   "source": [
    "def eliminar_outliers(dataset,var):\n",
    "    q25,q75 = np.percentile(dataset[var], [25,75])\n",
    "    iqr = q75 - q25\n",
    "    minimo = q25 - 1.5*iqr\n",
    "    maximo = q75 + 1.5*iqr\n",
    "    mascara_outliers = np.logical_or(dataset[var] < minimo, dataset[var] > maximo)\n",
    "    return mascara_outliers"
   ]
  },
  {
   "cell_type": "markdown",
   "metadata": {
    "colab_type": "text",
    "id": "shlc9XpyJ9uf"
   },
   "source": [
    "*Estudio la distribución de las variables para detectar outliers* "
   ]
  },
  {
   "cell_type": "markdown",
   "metadata": {
    "colab_type": "text",
    "id": "1bOhvmxoJ9ug"
   },
   "source": [
    "*Variable Superficie Total*"
   ]
  },
  {
   "cell_type": "code",
   "execution_count": 10,
   "metadata": {
    "colab": {
     "base_uri": "https://localhost:8080/",
     "height": 322
    },
    "colab_type": "code",
    "id": "b-hFKXqnJ9uh",
    "outputId": "7ac14d8b-5164-4c5f-8cb7-1f876638afa6"
   },
   "outputs": [
    {
     "data": {
      "image/png": "[encoded data removed]",
      "text/plain": [
       "<Figure size 1152x720 with 2 Axes>"
      ]
     },
     "metadata": {
      "needs_background": "light",
      "tags": []
     },
     "output_type": "display_data"
    }
   ],
   "source": [
    "plt.figure(figsize = (16,10))\n",
    "plt.subplot(2,2,1)\n",
    "sns.distplot(dataset_properati['surface_total'],bins=50,kde=False,hist=True,hist_kws={\"range\": [0,600]})\n",
    "plt.title('Distribución de la variable superficie total')\n",
    "\n",
    "plt.subplot(2,2,2)\n",
    "sns.boxplot(dataset_properati['surface_total'])\n",
    "plt.grid(axis = 'x')      \n",
    "plt.title('Distribución de la variable superficie total')\n",
    "plt.xlim(0,600)\n",
    "\n",
    "plt.show()"
   ]
  },
  {
   "cell_type": "code",
   "execution_count": 11,
   "metadata": {
    "colab": {
     "base_uri": "https://localhost:8080/",
     "height": 34
    },
    "colab_type": "code",
    "id": "AXe_sTlxJ9ul",
    "outputId": "bdda2d3e-fdb8-4671-a2ec-c94b4b160eea"
   },
   "outputs": [
    {
     "data": {
      "text/plain": [
       "6218"
      ]
     },
     "execution_count": 11,
     "metadata": {
      "tags": []
     },
     "output_type": "execute_result"
    }
   ],
   "source": [
    "#llamo a la función definida para eliminar ouliers de Superficie total y cuento la cantidad que se eliminarán\n",
    "mascara_outliers_sup_total=eliminar_outliers(dataset_properati,'surface_total')\n",
    "mascara_outliers_sup_total.sum()"
   ]
  },
  {
   "cell_type": "code",
   "execution_count": 12,
   "metadata": {
    "colab": {
     "base_uri": "https://localhost:8080/",
     "height": 34
    },
    "colab_type": "code",
    "id": "g89VRrZaJ9up",
    "outputId": "ef40f758-882f-4701-b8aa-472f7c6c397d"
   },
   "outputs": [
    {
     "data": {
      "text/plain": [
       "(75073, 9)"
      ]
     },
     "execution_count": 12,
     "metadata": {
      "tags": []
     },
     "output_type": "execute_result"
    }
   ],
   "source": [
    "#Filtro el dataset sacando los outliers encontrados en el punto anterior\n",
    "dataset_properati=dataset_properati[~mascara_outliers_sup_total]\n",
    "dataset_properati.shape"
   ]
  },
  {
   "cell_type": "markdown",
   "metadata": {
    "colab_type": "text",
    "id": "eUvObcOGJ9us"
   },
   "source": [
    "*Variable Superficie Cubierta*"
   ]
  },
  {
   "cell_type": "code",
   "execution_count": 13,
   "metadata": {
    "colab": {
     "base_uri": "https://localhost:8080/",
     "height": 322
    },
    "colab_type": "code",
    "id": "Cs2E0j3bJ9ut",
    "outputId": "a201347f-0249-4fd4-84f4-bb842c55a127"
   },
   "outputs": [
    {
     "data": {
      "image/png": "[encoded data removed]",
      "text/plain": [
       "<Figure size 1152x720 with 2 Axes>"
      ]
     },
     "metadata": {
      "needs_background": "light",
      "tags": []
     },
     "output_type": "display_data"
    }
   ],
   "source": [
    "plt.figure(figsize = (16,10))\n",
    "plt.subplot(2,2,1)\n",
    "sns.distplot(dataset_properati['surface_covered'],bins=50,kde=False,hist=True,hist_kws={\"range\": [0,600]})\n",
    "plt.title('Distribución de la variable superficie cubierta')\n",
    "\n",
    "plt.subplot(2,2,2)\n",
    "sns.boxplot(dataset_properati['surface_covered'])\n",
    "plt.grid(axis = 'x')      \n",
    "plt.title('Distribución de la variable superficie cubierta')\n",
    "plt.xlim(0,600)\n",
    "\n",
    "plt.show()"
   ]
  },
  {
   "cell_type": "code",
   "execution_count": 14,
   "metadata": {
    "colab": {
     "base_uri": "https://localhost:8080/",
     "height": 34
    },
    "colab_type": "code",
    "id": "IyAelO94J9uv",
    "outputId": "38b367dc-6a44-455a-a321-85305f7c9556"
   },
   "outputs": [
    {
     "data": {
      "text/plain": [
       "3165"
      ]
     },
     "execution_count": 14,
     "metadata": {
      "tags": []
     },
     "output_type": "execute_result"
    }
   ],
   "source": [
    "#llamo a la función definida para eliminar ouliers de Superficie cubierta y cuento la cantidad que se eliminarán\n",
    "mascara_outliers_sup_cubierta=eliminar_outliers(dataset_properati,'surface_covered')\n",
    "mascara_outliers_sup_cubierta.sum()"
   ]
  },
  {
   "cell_type": "code",
   "execution_count": 15,
   "metadata": {
    "colab": {
     "base_uri": "https://localhost:8080/",
     "height": 34
    },
    "colab_type": "code",
    "id": "ei2-8WwzJ9u0",
    "outputId": "c1f2427a-045b-4e40-b80a-6bcbde5e4e3d"
   },
   "outputs": [
    {
     "data": {
      "text/plain": [
       "(71908, 9)"
      ]
     },
     "execution_count": 15,
     "metadata": {
      "tags": []
     },
     "output_type": "execute_result"
    }
   ],
   "source": [
    "#Filtro el dataset sacando los outliers encontrados en el punto anterior\n",
    "dataset_properati=dataset_properati[~mascara_outliers_sup_cubierta]\n",
    "dataset_properati.shape"
   ]
  },
  {
   "cell_type": "markdown",
   "metadata": {
    "colab_type": "text",
    "id": "TFtkfJfAJ9u3"
   },
   "source": [
    "*Variable rooms*"
   ]
  },
  {
   "cell_type": "code",
   "execution_count": 16,
   "metadata": {
    "colab": {
     "base_uri": "https://localhost:8080/",
     "height": 322
    },
    "colab_type": "code",
    "id": "cx1AVY3kJ9u3",
    "outputId": "fb684cb9-c5ba-4eda-cb67-73cfb969706b"
   },
   "outputs": [
    {
     "data": {
      "image/png": "[encoded data removed]",
      "text/plain": [
       "<Figure size 1152x720 with 2 Axes>"
      ]
     },
     "metadata": {
      "needs_background": "light",
      "tags": []
     },
     "output_type": "display_data"
    }
   ],
   "source": [
    "plt.figure(figsize = (16,10))\n",
    "plt.subplot(2,2,1)\n",
    "sns.distplot(dataset_properati['rooms'],bins=10,kde=False,hist=True,hist_kws={\"range\": [0,10]})\n",
    "plt.title('Distribución de la variable rooms')\n",
    "\n",
    "plt.subplot(2,2,2)\n",
    "sns.boxplot(dataset_properati['rooms'])\n",
    "plt.grid(axis = 'x')      \n",
    "plt.title('Distribución de la variable rooms')\n",
    "plt.xlim(0,10)\n",
    "\n",
    "plt.show()"
   ]
  },
  {
   "cell_type": "code",
   "execution_count": 17,
   "metadata": {
    "colab": {
     "base_uri": "https://localhost:8080/",
     "height": 34
    },
    "colab_type": "code",
    "id": "gI6UXPY4J9u6",
    "outputId": "5e5f2814-f2bd-4433-8ea8-dd633d14a30c"
   },
   "outputs": [
    {
     "data": {
      "text/plain": [
       "2433"
      ]
     },
     "execution_count": 17,
     "metadata": {
      "tags": []
     },
     "output_type": "execute_result"
    }
   ],
   "source": [
    "#llamo a la función definida para eliminar ouliers de rooms y cuento la cantidad que se eliminarán\n",
    "mascara_outliers_rooms=eliminar_outliers(dataset_properati,'rooms')\n",
    "mascara_outliers_rooms.sum()"
   ]
  },
  {
   "cell_type": "code",
   "execution_count": 18,
   "metadata": {
    "colab": {
     "base_uri": "https://localhost:8080/",
     "height": 34
    },
    "colab_type": "code",
    "id": "dRTUNcY9J9u8",
    "outputId": "f6c0bf3c-aef3-4069-abb4-1caf39d152f8"
   },
   "outputs": [
    {
     "data": {
      "text/plain": [
       "(69475, 9)"
      ]
     },
     "execution_count": 18,
     "metadata": {
      "tags": []
     },
     "output_type": "execute_result"
    }
   ],
   "source": [
    "#Filtro el dataset sacando los outliers encontrados en el punto anterior\n",
    "dataset_properati=dataset_properati[~mascara_outliers_rooms]\n",
    "dataset_properati.shape"
   ]
  },
  {
   "cell_type": "markdown",
   "metadata": {
    "colab_type": "text",
    "id": "hN-16ru-J9u-"
   },
   "source": [
    "*Variable bedrooms*"
   ]
  },
  {
   "cell_type": "code",
   "execution_count": 19,
   "metadata": {
    "colab": {
     "base_uri": "https://localhost:8080/",
     "height": 322
    },
    "colab_type": "code",
    "id": "Bn5obo9TJ9u_",
    "outputId": "2ba08140-915d-443d-9db6-28583a96e22f"
   },
   "outputs": [
    {
     "data": {
      "image/png": "[encoded data removed]",
      "text/plain": [
       "<Figure size 1152x720 with 2 Axes>"
      ]
     },
     "metadata": {
      "needs_background": "light",
      "tags": []
     },
     "output_type": "display_data"
    }
   ],
   "source": [
    "plt.figure(figsize = (16,10))\n",
    "plt.subplot(2,2,1)\n",
    "sns.distplot(dataset_properati['bedrooms'],bins=10,kde=False,hist=True,hist_kws={\"range\": [0,10]})\n",
    "plt.title('Distribución de la variable bedrooms')\n",
    "\n",
    "plt.subplot(2,2,2)\n",
    "sns.boxplot(dataset_properati['bedrooms'])\n",
    "plt.grid(axis = 'x')      \n",
    "plt.title('Distribución de la variable bedrooms')\n",
    "plt.xlim(0,10)\n",
    "\n",
    "plt.show()"
   ]
  },
  {
   "cell_type": "code",
   "execution_count": 20,
   "metadata": {
    "colab": {
     "base_uri": "https://localhost:8080/",
     "height": 34
    },
    "colab_type": "code",
    "id": "rWm38uq5J9vB",
    "outputId": "463c1d7c-7888-4fdc-8db8-7f3ae4838e5a"
   },
   "outputs": [
    {
     "data": {
      "text/plain": [
       "115"
      ]
     },
     "execution_count": 20,
     "metadata": {
      "tags": []
     },
     "output_type": "execute_result"
    }
   ],
   "source": [
    "#llamo a la función definida para eliminar ouliers de rooms y cuento la cantidad que se eliminarán\n",
    "mascara_outliers_bedrooms=eliminar_outliers(dataset_properati,'bedrooms')\n",
    "mascara_outliers_bedrooms.sum()"
   ]
  },
  {
   "cell_type": "code",
   "execution_count": 21,
   "metadata": {
    "colab": {
     "base_uri": "https://localhost:8080/",
     "height": 34
    },
    "colab_type": "code",
    "id": "1TkbOf9jJ9vE",
    "outputId": "9d54295f-0997-4ea2-de07-00861d8ec790"
   },
   "outputs": [
    {
     "data": {
      "text/plain": [
       "(69360, 9)"
      ]
     },
     "execution_count": 21,
     "metadata": {
      "tags": []
     },
     "output_type": "execute_result"
    }
   ],
   "source": [
    "#Filtro el dataset sacando los outliers encontrados en el punto anterior\n",
    "dataset_properati=dataset_properati[~mascara_outliers_bedrooms]\n",
    "dataset_properati.shape"
   ]
  },
  {
   "cell_type": "markdown",
   "metadata": {
    "colab_type": "text",
    "id": "Wmci2cwsJ9vH"
   },
   "source": [
    "*Variable bathrooms*"
   ]
  },
  {
   "cell_type": "code",
   "execution_count": 22,
   "metadata": {
    "colab": {
     "base_uri": "https://localhost:8080/",
     "height": 322
    },
    "colab_type": "code",
    "id": "luSQHhU1J9vH",
    "outputId": "e11beb09-360a-46df-96e8-61a675ea69f0"
   },
   "outputs": [
    {
     "data": {
      "image/png": "[encoded data removed]",
      "text/plain": [
       "<Figure size 1152x720 with 2 Axes>"
      ]
     },
     "metadata": {
      "needs_background": "light",
      "tags": []
     },
     "output_type": "display_data"
    }
   ],
   "source": [
    "plt.figure(figsize = (16,10))\n",
    "plt.subplot(2,2,1)\n",
    "sns.distplot(dataset_properati['bathrooms'],bins=10,kde=False,hist=True,hist_kws={\"range\": [0,10]})\n",
    "plt.title('Distribución de la variable bathrooms')\n",
    "\n",
    "plt.subplot(2,2,2)\n",
    "sns.boxplot(dataset_properati['bathrooms'])\n",
    "plt.grid(axis = 'x')      \n",
    "plt.title('Distribución de la variable bathrooms')\n",
    "plt.xlim(0,10)\n",
    "\n",
    "plt.show()"
   ]
  },
  {
   "cell_type": "code",
   "execution_count": 23,
   "metadata": {
    "colab": {
     "base_uri": "https://localhost:8080/",
     "height": 34
    },
    "colab_type": "code",
    "id": "ytUFPakKJ9vJ",
    "outputId": "d1275210-0e45-413a-ee04-d835b0bbfeca"
   },
   "outputs": [
    {
     "data": {
      "text/plain": [
       "0"
      ]
     },
     "execution_count": 23,
     "metadata": {
      "tags": []
     },
     "output_type": "execute_result"
    }
   ],
   "source": [
    "#llamo a la función definida para eliminar ouliers de rooms y cuento la cantidad que se eliminarán\n",
    "mascara_outliers_bathrooms=eliminar_outliers(dataset_properati,'bathrooms')\n",
    "mascara_outliers_bathrooms.sum()"
   ]
  },
  {
   "cell_type": "markdown",
   "metadata": {
    "colab_type": "text",
    "id": "hH5sa8bXJ9vN"
   },
   "source": [
    "*Variable Precio*"
   ]
  },
  {
   "cell_type": "code",
   "execution_count": 25,
   "metadata": {
    "colab": {
     "base_uri": "https://localhost:8080/",
     "height": 320
    },
    "colab_type": "code",
    "id": "HVjIEawXJ9vO",
    "outputId": "e297fbb7-dcea-4b49-b43e-2fa7ab05ffc0"
   },
   "outputs": [
    {
     "data": {
      "image/png": "[encoded data removed]",
      "text/plain": [
       "<Figure size 1152x720 with 2 Axes>"
      ]
     },
     "metadata": {
      "needs_background": "light",
      "tags": []
     },
     "output_type": "display_data"
    }
   ],
   "source": [
    "plt.figure(figsize = (16,10))\n",
    "\n",
    "plt.subplot(2,2,1)\n",
    "sns.distplot(dataset_properati['price'],bins=50,kde=False,hist=True,hist_kws={\"range\": [0,600000]})\n",
    "plt.title('Distribución de la variable Precio')\n",
    "\n",
    "plt.subplot(2,2,2)\n",
    "sns.boxplot(dataset_properati['price'])\n",
    "plt.grid(axis = 'x')      \n",
    "plt.title('Distribución de la variable Precio')\n",
    "plt.xlim(0,600000)\n",
    "\n",
    "plt.show()"
   ]
  },
  {
   "cell_type": "code",
   "execution_count": 26,
   "metadata": {
    "colab": {
     "base_uri": "https://localhost:8080/",
     "height": 34
    },
    "colab_type": "code",
    "id": "1BjN-nlGJ9vR",
    "outputId": "d9978ce0-094b-4096-f4ca-0bbf8b5f3bd7"
   },
   "outputs": [
    {
     "data": {
      "text/plain": [
       "3679"
      ]
     },
     "execution_count": 26,
     "metadata": {
      "tags": []
     },
     "output_type": "execute_result"
    }
   ],
   "source": [
    "mascara_outliers_precio=eliminar_outliers(dataset_properati,'price')\n",
    "mascara_outliers_precio.sum()"
   ]
  },
  {
   "cell_type": "code",
   "execution_count": 27,
   "metadata": {
    "colab": {
     "base_uri": "https://localhost:8080/",
     "height": 34
    },
    "colab_type": "code",
    "id": "9qnbXvGeJ9vU",
    "outputId": "9990b87e-396e-48d0-a7b0-e9133b4c44f0"
   },
   "outputs": [
    {
     "data": {
      "text/plain": [
       "(65681, 9)"
      ]
     },
     "execution_count": 27,
     "metadata": {
      "tags": []
     },
     "output_type": "execute_result"
    }
   ],
   "source": [
    "#Filtro el dataset sacando los outliers encontrados en el punto anterior\n",
    "dataset_properati=dataset_properati[~mascara_outliers_precio]\n",
    "dataset_properati.shape"
   ]
  },
  {
   "cell_type": "markdown",
   "metadata": {
    "colab_type": "text",
    "id": "jkNR7WydJ9vW"
   },
   "source": [
    "**A.2 - Imputación de valores faltantes**\n",
    "\n",
    "Aplico esta técnica para no descartar las filas que tengan valores faltantes, ya que las mismas aportan información al modelo"
   ]
  },
  {
   "cell_type": "code",
   "execution_count": 28,
   "metadata": {
    "colab": {
     "base_uri": "https://localhost:8080/",
     "height": 187
    },
    "colab_type": "code",
    "id": "dsbbNRgFJ9vW",
    "outputId": "4bccec7c-5cfa-4a45-e382-c1b8f3f214ea"
   },
   "outputs": [
    {
     "name": "stdout",
     "output_type": "stream",
     "text": [
      "l2                   0\n",
      "l3                   0\n",
      "rooms                0\n",
      "bedrooms             0\n",
      "bathrooms          664\n",
      "surface_total        0\n",
      "surface_covered      0\n",
      "price                0\n",
      "property_type        0\n",
      "dtype: int64\n"
     ]
    }
   ],
   "source": [
    "#Busco los valores faltantes por columnas\n",
    "print(dataset_properati.isna().sum())"
   ]
  },
  {
   "cell_type": "code",
   "execution_count": 29,
   "metadata": {
    "colab": {},
    "colab_type": "code",
    "id": "RY4RWVn8J9vZ"
   },
   "outputs": [],
   "source": [
    "#Aplico un simple Imputer para sustituir valores nulos por la mediana, ya que la distribución según lo visto en el A1 no son\n",
    "# del todo normales.\n",
    "\n",
    "imp = SimpleImputer(missing_values=np.nan, strategy='median')\n",
    "\n",
    "#Ejecuto la sustitución en cada uno de las columnas con valores faltantes\n",
    "\n",
    "dataset_properati.bathrooms = imp.fit_transform(dataset_properati.bathrooms.values.reshape(-1, 1))"
   ]
  },
  {
   "cell_type": "code",
   "execution_count": 30,
   "metadata": {
    "colab": {
     "base_uri": "https://localhost:8080/",
     "height": 187
    },
    "colab_type": "code",
    "id": "88s1Ml_VJ9vb",
    "outputId": "829be401-c3c8-4cb4-faaa-9df9ad19deab"
   },
   "outputs": [
    {
     "name": "stdout",
     "output_type": "stream",
     "text": [
      "l2                 0\n",
      "l3                 0\n",
      "rooms              0\n",
      "bedrooms           0\n",
      "bathrooms          0\n",
      "surface_total      0\n",
      "surface_covered    0\n",
      "price              0\n",
      "property_type      0\n",
      "dtype: int64\n"
     ]
    }
   ],
   "source": [
    "#Compruebo que no haya valores faltantes en alguna columna\n",
    "print(dataset_properati.isna().sum())"
   ]
  },
  {
   "cell_type": "markdown",
   "metadata": {
    "colab_type": "text",
    "id": "8bgws0m7J9vd"
   },
   "source": [
    "**A.3 - Escalado de datos**\n",
    "\n",
    "Aplico esta técnica porque las variables tienen escalas muy diferentes, como ser la cantidad de habitaciones baños y piezas difieren mucho de la superficie total por ejemplo, llevar todas las variables a una misma unidad debería ayudar a mejorar el rendimiento del modelo."
   ]
  },
  {
   "cell_type": "code",
   "execution_count": 31,
   "metadata": {
    "colab": {
     "base_uri": "https://localhost:8080/",
     "height": 204
    },
    "colab_type": "code",
    "id": "eq1cOGoUJ9vd",
    "outputId": "b68eed2d-5279-48cc-d452-81c0ffdd58a9",
    "scrolled": true
   },
   "outputs": [
    {
     "data": {
      "text/html": [
       "<div>\n",
       "<style scoped>\n",
       "    .dataframe tbody tr th:only-of-type {\n",
       "        vertical-align: middle;\n",
       "    }\n",
       "\n",
       "    .dataframe tbody tr th {\n",
       "        vertical-align: top;\n",
       "    }\n",
       "\n",
       "    .dataframe thead th {\n",
       "        text-align: right;\n",
       "    }\n",
       "</style>\n",
       "<table border=\"1\" class=\"dataframe\">\n",
       "  <thead>\n",
       "    <tr style=\"text-align: right;\">\n",
       "      <th></th>\n",
       "      <th>l2</th>\n",
       "      <th>l3</th>\n",
       "      <th>rooms</th>\n",
       "      <th>bedrooms</th>\n",
       "      <th>bathrooms</th>\n",
       "      <th>surface_total</th>\n",
       "      <th>surface_covered</th>\n",
       "      <th>price</th>\n",
       "      <th>property_type</th>\n",
       "    </tr>\n",
       "  </thead>\n",
       "  <tbody>\n",
       "    <tr>\n",
       "      <th>1</th>\n",
       "      <td>Capital Federal</td>\n",
       "      <td>Boedo</td>\n",
       "      <td>-0.689694</td>\n",
       "      <td>-0.925024</td>\n",
       "      <td>1.270582</td>\n",
       "      <td>0.041585</td>\n",
       "      <td>-0.096376</td>\n",
       "      <td>159000.0</td>\n",
       "      <td>PH</td>\n",
       "    </tr>\n",
       "    <tr>\n",
       "      <th>2</th>\n",
       "      <td>Capital Federal</td>\n",
       "      <td>Palermo</td>\n",
       "      <td>-0.689694</td>\n",
       "      <td>-0.925024</td>\n",
       "      <td>-0.540584</td>\n",
       "      <td>-0.775756</td>\n",
       "      <td>-0.629588</td>\n",
       "      <td>125000.0</td>\n",
       "      <td>PH</td>\n",
       "    </tr>\n",
       "    <tr>\n",
       "      <th>3</th>\n",
       "      <td>Capital Federal</td>\n",
       "      <td>Palermo</td>\n",
       "      <td>-0.689694</td>\n",
       "      <td>-0.925024</td>\n",
       "      <td>-0.540584</td>\n",
       "      <td>0.531989</td>\n",
       "      <td>-0.424506</td>\n",
       "      <td>295000.0</td>\n",
       "      <td>PH</td>\n",
       "    </tr>\n",
       "    <tr>\n",
       "      <th>5</th>\n",
       "      <td>Capital Federal</td>\n",
       "      <td>Villa Crespo</td>\n",
       "      <td>-0.689694</td>\n",
       "      <td>-0.925024</td>\n",
       "      <td>-0.540584</td>\n",
       "      <td>-0.416126</td>\n",
       "      <td>-0.178409</td>\n",
       "      <td>150000.0</td>\n",
       "      <td>PH</td>\n",
       "    </tr>\n",
       "    <tr>\n",
       "      <th>6</th>\n",
       "      <td>Capital Federal</td>\n",
       "      <td>Villa Crespo</td>\n",
       "      <td>-0.689694</td>\n",
       "      <td>-0.925024</td>\n",
       "      <td>-0.540584</td>\n",
       "      <td>0.041585</td>\n",
       "      <td>0.395819</td>\n",
       "      <td>159500.0</td>\n",
       "      <td>PH</td>\n",
       "    </tr>\n",
       "  </tbody>\n",
       "</table>\n",
       "</div>"
      ],
      "text/plain": [
       "                l2            l3  ...     price  property_type\n",
       "1  Capital Federal         Boedo  ...  159000.0             PH\n",
       "2  Capital Federal       Palermo  ...  125000.0             PH\n",
       "3  Capital Federal       Palermo  ...  295000.0             PH\n",
       "5  Capital Federal  Villa Crespo  ...  150000.0             PH\n",
       "6  Capital Federal  Villa Crespo  ...  159500.0             PH\n",
       "\n",
       "[5 rows x 9 columns]"
      ]
     },
     "execution_count": 31,
     "metadata": {
      "tags": []
     },
     "output_type": "execute_result"
    }
   ],
   "source": [
    "#Tomo el dataset anterior y lo asignno a uno donde aplicare el escalado\n",
    "data_scaler=dataset_properati.copy()\n",
    "\n",
    "scaler = StandardScaler()\n",
    "data_scaler.rooms = scaler.fit_transform(data_scaler.rooms.values.reshape(-1, 1))\n",
    "data_scaler.bedrooms = scaler.fit_transform(data_scaler.bedrooms.values.reshape(-1, 1))\n",
    "data_scaler.bathrooms = scaler.fit_transform(data_scaler.bathrooms.values.reshape(-1, 1))\n",
    "data_scaler.surface_total = scaler.fit_transform(data_scaler.surface_total.values.reshape(-1, 1))\n",
    "data_scaler.surface_covered = scaler.fit_transform(data_scaler.surface_covered.values.reshape(-1, 1))\n",
    "data_scaler.head()"
   ]
  },
  {
   "cell_type": "markdown",
   "metadata": {
    "colab_type": "text",
    "id": "qfCgVtmQJ9vf"
   },
   "source": [
    "**A.4 - Transformación de atributos categóricos en información**\n",
    "\n",
    "Aplico esta técnica para poder usar los atriburos categóricos en las predicciones."
   ]
  },
  {
   "cell_type": "code",
   "execution_count": 32,
   "metadata": {
    "colab": {},
    "colab_type": "code",
    "id": "CaknfGFwJ9vf"
   },
   "outputs": [],
   "source": [
    "#Hago una copia del dataset de la sección anterior\n",
    "data_encoder=data_scaler.copy()"
   ]
  },
  {
   "cell_type": "markdown",
   "metadata": {
    "colab_type": "text",
    "id": "AQ8XL5tMJ9vg"
   },
   "source": [
    "*Creo una función para agregar a un dataframe todas las columnas generadas con OneHotEncoder*"
   ]
  },
  {
   "cell_type": "code",
   "execution_count": 33,
   "metadata": {
    "colab": {},
    "colab_type": "code",
    "id": "2Ittp_kQJ9vh"
   },
   "outputs": [],
   "source": [
    "#Parametros\n",
    "#data: dataframe al cual se le agregarán las columnas\n",
    "#Columna: el nombre de la columna sobre el cual se aplico el OHE\n",
    "#ohe_labeled: las columnas generadas con el OHE\n",
    "#class_labels: las clases de etiquetas de la columna a la cual se le aplico el OHE\n",
    "\n",
    "def pdAsigOhe(data, columna, ohe_labeled, class_labels):\n",
    "    para_asig = {}\n",
    "    for i, label in enumerate(class_labels):\n",
    "        para_asig[columna+'_'+label] = ohe_labeled[:,i]\n",
    "    data = data.assign(**para_asig)\n",
    "    return data"
   ]
  },
  {
   "cell_type": "markdown",
   "metadata": {
    "colab_type": "text",
    "id": "uk4z8wQsJ9vk"
   },
   "source": [
    "*Transformación de la varible property_type*"
   ]
  },
  {
   "cell_type": "code",
   "execution_count": 34,
   "metadata": {
    "colab": {},
    "colab_type": "code",
    "id": "JtFOO6opJ9vk"
   },
   "outputs": [],
   "source": [
    "#Como OneHotEncoder solo funciona con datos categóricos numéricos, uso LabelEncoder para codificar las etiquetas de \n",
    "#cadena con números\n",
    "\n",
    "#Aplico LabelEncoder a la varible property_type \n",
    "la_property_type = LabelEncoder()\n",
    "property_type_transfor = la_property_type.fit_transform(data_encoder.property_type)\n",
    "property_type_transfor_classes = la_property_type.classes_"
   ]
  },
  {
   "cell_type": "code",
   "execution_count": 35,
   "metadata": {
    "colab": {
     "base_uri": "https://localhost:8080/",
     "height": 34
    },
    "colab_type": "code",
    "id": "RKQZrfpMJ9vm",
    "outputId": "c607b9ca-74a0-4e52-c822-596c0e826705"
   },
   "outputs": [
    {
     "data": {
      "text/plain": [
       "(65681, 3)"
      ]
     },
     "execution_count": 35,
     "metadata": {
      "tags": []
     },
     "output_type": "execute_result"
    }
   ],
   "source": [
    "#Aplico OneHotEncoder a la varible property_type\n",
    "ohe_property_type = OneHotEncoder(sparse=False)\n",
    "property_type_ohe = ohe_property_type.fit_transform(property_type_transfor.reshape(-1,1))\n",
    "property_type_ohe.shape"
   ]
  },
  {
   "cell_type": "code",
   "execution_count": 36,
   "metadata": {
    "colab": {},
    "colab_type": "code",
    "id": "_22oECu8J9vo"
   },
   "outputs": [],
   "source": [
    "#Invoco a la función pdAsigOhe para agregar las columnas al DataFrame\n",
    "data_encoder = pdAsigOhe(data_encoder, 'property_type',property_type_ohe, property_type_transfor_classes)"
   ]
  },
  {
   "cell_type": "code",
   "execution_count": 37,
   "metadata": {
    "colab": {
     "base_uri": "https://localhost:8080/",
     "height": 309
    },
    "colab_type": "code",
    "id": "QCpqsUCdJ9vq",
    "outputId": "d7cfee7b-98d8-4ab5-fdc3-ea533f3262eb"
   },
   "outputs": [
    {
     "data": {
      "text/html": [
       "<div>\n",
       "<style scoped>\n",
       "    .dataframe tbody tr th:only-of-type {\n",
       "        vertical-align: middle;\n",
       "    }\n",
       "\n",
       "    .dataframe tbody tr th {\n",
       "        vertical-align: top;\n",
       "    }\n",
       "\n",
       "    .dataframe thead th {\n",
       "        text-align: right;\n",
       "    }\n",
       "</style>\n",
       "<table border=\"1\" class=\"dataframe\">\n",
       "  <thead>\n",
       "    <tr style=\"text-align: right;\">\n",
       "      <th></th>\n",
       "      <th>l2</th>\n",
       "      <th>l3</th>\n",
       "      <th>rooms</th>\n",
       "      <th>bedrooms</th>\n",
       "      <th>bathrooms</th>\n",
       "      <th>surface_total</th>\n",
       "      <th>surface_covered</th>\n",
       "      <th>price</th>\n",
       "      <th>property_type</th>\n",
       "      <th>property_type_Casa</th>\n",
       "      <th>property_type_Departamento</th>\n",
       "      <th>property_type_PH</th>\n",
       "    </tr>\n",
       "  </thead>\n",
       "  <tbody>\n",
       "    <tr>\n",
       "      <th>1</th>\n",
       "      <td>Capital Federal</td>\n",
       "      <td>Boedo</td>\n",
       "      <td>-0.689694</td>\n",
       "      <td>-0.925024</td>\n",
       "      <td>1.270582</td>\n",
       "      <td>0.041585</td>\n",
       "      <td>-0.096376</td>\n",
       "      <td>159000.0</td>\n",
       "      <td>PH</td>\n",
       "      <td>0.0</td>\n",
       "      <td>0.0</td>\n",
       "      <td>1.0</td>\n",
       "    </tr>\n",
       "    <tr>\n",
       "      <th>2</th>\n",
       "      <td>Capital Federal</td>\n",
       "      <td>Palermo</td>\n",
       "      <td>-0.689694</td>\n",
       "      <td>-0.925024</td>\n",
       "      <td>-0.540584</td>\n",
       "      <td>-0.775756</td>\n",
       "      <td>-0.629588</td>\n",
       "      <td>125000.0</td>\n",
       "      <td>PH</td>\n",
       "      <td>0.0</td>\n",
       "      <td>0.0</td>\n",
       "      <td>1.0</td>\n",
       "    </tr>\n",
       "    <tr>\n",
       "      <th>3</th>\n",
       "      <td>Capital Federal</td>\n",
       "      <td>Palermo</td>\n",
       "      <td>-0.689694</td>\n",
       "      <td>-0.925024</td>\n",
       "      <td>-0.540584</td>\n",
       "      <td>0.531989</td>\n",
       "      <td>-0.424506</td>\n",
       "      <td>295000.0</td>\n",
       "      <td>PH</td>\n",
       "      <td>0.0</td>\n",
       "      <td>0.0</td>\n",
       "      <td>1.0</td>\n",
       "    </tr>\n",
       "    <tr>\n",
       "      <th>5</th>\n",
       "      <td>Capital Federal</td>\n",
       "      <td>Villa Crespo</td>\n",
       "      <td>-0.689694</td>\n",
       "      <td>-0.925024</td>\n",
       "      <td>-0.540584</td>\n",
       "      <td>-0.416126</td>\n",
       "      <td>-0.178409</td>\n",
       "      <td>150000.0</td>\n",
       "      <td>PH</td>\n",
       "      <td>0.0</td>\n",
       "      <td>0.0</td>\n",
       "      <td>1.0</td>\n",
       "    </tr>\n",
       "    <tr>\n",
       "      <th>6</th>\n",
       "      <td>Capital Federal</td>\n",
       "      <td>Villa Crespo</td>\n",
       "      <td>-0.689694</td>\n",
       "      <td>-0.925024</td>\n",
       "      <td>-0.540584</td>\n",
       "      <td>0.041585</td>\n",
       "      <td>0.395819</td>\n",
       "      <td>159500.0</td>\n",
       "      <td>PH</td>\n",
       "      <td>0.0</td>\n",
       "      <td>0.0</td>\n",
       "      <td>1.0</td>\n",
       "    </tr>\n",
       "  </tbody>\n",
       "</table>\n",
       "</div>"
      ],
      "text/plain": [
       "                l2            l3  ...  property_type_Departamento  property_type_PH\n",
       "1  Capital Federal         Boedo  ...                         0.0               1.0\n",
       "2  Capital Federal       Palermo  ...                         0.0               1.0\n",
       "3  Capital Federal       Palermo  ...                         0.0               1.0\n",
       "5  Capital Federal  Villa Crespo  ...                         0.0               1.0\n",
       "6  Capital Federal  Villa Crespo  ...                         0.0               1.0\n",
       "\n",
       "[5 rows x 12 columns]"
      ]
     },
     "execution_count": 37,
     "metadata": {
      "tags": []
     },
     "output_type": "execute_result"
    }
   ],
   "source": [
    "data_encoder.head()"
   ]
  },
  {
   "cell_type": "markdown",
   "metadata": {
    "colab_type": "text",
    "id": "DyyryoM7J9vr"
   },
   "source": [
    "*Transformación de la varible l3*"
   ]
  },
  {
   "cell_type": "code",
   "execution_count": 38,
   "metadata": {
    "colab": {},
    "colab_type": "code",
    "id": "UmoJzR3gJ9vs"
   },
   "outputs": [],
   "source": [
    "#Aplico la tranformación a la varible l3 usando Label Encoder, en este punto si bien sabemos que l3 no es una variable ordinal\n",
    "#uso este método ya que usando OneHotEncoder generaría gran cantidad de variables, de hecho lo hice previamente y el modelo,\n",
    "# al menos en el punto A no generaba mejores resultados que usando esta opción\n",
    "\n",
    "la_l3 = LabelEncoder()\n",
    "l3_transfor = la_l3.fit_transform(data_encoder.l3)\n",
    "data_encoder=data_encoder.assign(barrios_enc=l3_transfor)"
   ]
  },
  {
   "cell_type": "code",
   "execution_count": 39,
   "metadata": {
    "colab": {
     "base_uri": "https://localhost:8080/",
     "height": 224
    },
    "colab_type": "code",
    "id": "ucNKK_dJJ9vv",
    "outputId": "728348ff-2fc6-47a9-d5f4-e75f833ad7a6",
    "scrolled": false
   },
   "outputs": [
    {
     "data": {
      "text/html": [
       "<div>\n",
       "<style scoped>\n",
       "    .dataframe tbody tr th:only-of-type {\n",
       "        vertical-align: middle;\n",
       "    }\n",
       "\n",
       "    .dataframe tbody tr th {\n",
       "        vertical-align: top;\n",
       "    }\n",
       "\n",
       "    .dataframe thead th {\n",
       "        text-align: right;\n",
       "    }\n",
       "</style>\n",
       "<table border=\"1\" class=\"dataframe\">\n",
       "  <thead>\n",
       "    <tr style=\"text-align: right;\">\n",
       "      <th></th>\n",
       "      <th>rooms</th>\n",
       "      <th>bedrooms</th>\n",
       "      <th>bathrooms</th>\n",
       "      <th>surface_total</th>\n",
       "      <th>surface_covered</th>\n",
       "      <th>price</th>\n",
       "      <th>property_type_Casa</th>\n",
       "      <th>property_type_Departamento</th>\n",
       "      <th>property_type_PH</th>\n",
       "      <th>barrios_enc</th>\n",
       "    </tr>\n",
       "  </thead>\n",
       "  <tbody>\n",
       "    <tr>\n",
       "      <th>1</th>\n",
       "      <td>-0.689694</td>\n",
       "      <td>-0.925024</td>\n",
       "      <td>1.270582</td>\n",
       "      <td>0.041585</td>\n",
       "      <td>-0.096376</td>\n",
       "      <td>159000.0</td>\n",
       "      <td>0.0</td>\n",
       "      <td>0.0</td>\n",
       "      <td>1.0</td>\n",
       "      <td>8</td>\n",
       "    </tr>\n",
       "    <tr>\n",
       "      <th>2</th>\n",
       "      <td>-0.689694</td>\n",
       "      <td>-0.925024</td>\n",
       "      <td>-0.540584</td>\n",
       "      <td>-0.775756</td>\n",
       "      <td>-0.629588</td>\n",
       "      <td>125000.0</td>\n",
       "      <td>0.0</td>\n",
       "      <td>0.0</td>\n",
       "      <td>1.0</td>\n",
       "      <td>26</td>\n",
       "    </tr>\n",
       "    <tr>\n",
       "      <th>3</th>\n",
       "      <td>-0.689694</td>\n",
       "      <td>-0.925024</td>\n",
       "      <td>-0.540584</td>\n",
       "      <td>0.531989</td>\n",
       "      <td>-0.424506</td>\n",
       "      <td>295000.0</td>\n",
       "      <td>0.0</td>\n",
       "      <td>0.0</td>\n",
       "      <td>1.0</td>\n",
       "      <td>26</td>\n",
       "    </tr>\n",
       "    <tr>\n",
       "      <th>5</th>\n",
       "      <td>-0.689694</td>\n",
       "      <td>-0.925024</td>\n",
       "      <td>-0.540584</td>\n",
       "      <td>-0.416126</td>\n",
       "      <td>-0.178409</td>\n",
       "      <td>150000.0</td>\n",
       "      <td>0.0</td>\n",
       "      <td>0.0</td>\n",
       "      <td>1.0</td>\n",
       "      <td>44</td>\n",
       "    </tr>\n",
       "    <tr>\n",
       "      <th>6</th>\n",
       "      <td>-0.689694</td>\n",
       "      <td>-0.925024</td>\n",
       "      <td>-0.540584</td>\n",
       "      <td>0.041585</td>\n",
       "      <td>0.395819</td>\n",
       "      <td>159500.0</td>\n",
       "      <td>0.0</td>\n",
       "      <td>0.0</td>\n",
       "      <td>1.0</td>\n",
       "      <td>44</td>\n",
       "    </tr>\n",
       "  </tbody>\n",
       "</table>\n",
       "</div>"
      ],
      "text/plain": [
       "      rooms  bedrooms  ...  property_type_PH  barrios_enc\n",
       "1 -0.689694 -0.925024  ...               1.0            8\n",
       "2 -0.689694 -0.925024  ...               1.0           26\n",
       "3 -0.689694 -0.925024  ...               1.0           26\n",
       "5 -0.689694 -0.925024  ...               1.0           44\n",
       "6 -0.689694 -0.925024  ...               1.0           44\n",
       "\n",
       "[5 rows x 10 columns]"
      ]
     },
     "execution_count": 39,
     "metadata": {
      "tags": []
     },
     "output_type": "execute_result"
    }
   ],
   "source": [
    "#Elimino las columnas a las cuales les aplique transformación y el resto de las columnas que no voy a utilizar\n",
    "data_encoder = data_encoder.drop(['l3','l2','property_type'],axis = 'columns')\n",
    "data_encoder.head()"
   ]
  },
  {
   "cell_type": "markdown",
   "metadata": {
    "colab_type": "text",
    "id": "1wAMANwMJ9vy"
   },
   "source": [
    "**A.5 - Entrenamiento del modelo y evaluación de desempeño**"
   ]
  },
  {
   "cell_type": "code",
   "execution_count": 40,
   "metadata": {
    "colab": {
     "base_uri": "https://localhost:8080/",
     "height": 34
    },
    "colab_type": "code",
    "id": "PqCPJAYnJ9vy",
    "outputId": "c585ac47-73ab-4d07-e7c3-b5309fbdb0c5"
   },
   "outputs": [
    {
     "data": {
      "text/plain": [
       "(65681, 9)"
      ]
     },
     "execution_count": 40,
     "metadata": {
      "tags": []
     },
     "output_type": "execute_result"
    }
   ],
   "source": [
    "#Hago una copia del modelo del punto anterior\n",
    "data_modelos=data_encoder.copy()\n",
    "\n",
    "X = data_modelos.drop(\"price\", axis=1)\n",
    "y = data_modelos.price\n",
    "X.shape"
   ]
  },
  {
   "cell_type": "code",
   "execution_count": 41,
   "metadata": {
    "colab": {
     "base_uri": "https://localhost:8080/",
     "height": 34
    },
    "colab_type": "code",
    "id": "Nm1IMFqBJ9v0",
    "outputId": "6f6cc8c0-fa4b-4d97-a3c9-9dfbe78c19f2"
   },
   "outputs": [
    {
     "name": "stdout",
     "output_type": "stream",
     "text": [
      "(45976, 9) (45976,) (19705, 9) (19705,)\n"
     ]
    }
   ],
   "source": [
    "# hago un Train/Test split de los datos\n",
    "X_train, X_test, y_train, y_test = train_test_split(X, y, test_size=0.3, random_state=42)\n",
    "print(X_train.shape, y_train.shape, X_test.shape, y_test.shape)"
   ]
  },
  {
   "cell_type": "markdown",
   "metadata": {
    "colab_type": "text",
    "id": "qTI49ByCJ9v2"
   },
   "source": [
    "*Defino los modelos de Arbol de desición y vecionos mas cercanos y buscamos los parámetros más optimos*"
   ]
  },
  {
   "cell_type": "code",
   "execution_count": 42,
   "metadata": {
    "colab": {
     "base_uri": "https://localhost:8080/",
     "height": 68
    },
    "colab_type": "code",
    "id": "ocrYDut1k0Qg",
    "outputId": "7f560681-6f1c-4879-d8b4-e134c440471d"
   },
   "outputs": [
    {
     "data": {
      "text/plain": [
       "KNeighborsRegressor(algorithm='auto', leaf_size=30, metric='minkowski',\n",
       "                    metric_params=None, n_jobs=None, n_neighbors=5, p=2,\n",
       "                    weights='uniform')"
      ]
     },
     "execution_count": 42,
     "metadata": {
      "tags": []
     },
     "output_type": "execute_result"
    }
   ],
   "source": [
    "tree_regressor = DecisionTreeRegressor()\n",
    "knn_regressor = KNeighborsRegressor()\n",
    "\n",
    "tree_regressor.fit(X_train, y_train)\n",
    "knn_regressor.fit(X_train, y_train)"
   ]
  },
  {
   "cell_type": "markdown",
   "metadata": {
    "colab_type": "text",
    "id": "ZADZeOWYmH6c"
   },
   "source": [
    "Optimización para vecinos mas cercanos"
   ]
  },
  {
   "cell_type": "code",
   "execution_count": 43,
   "metadata": {
    "colab": {},
    "colab_type": "code",
    "id": "ilt970u8j7GR"
   },
   "outputs": [],
   "source": [
    "# Defino las listas vacias para los valores de mse deseados\n",
    "\n",
    "lista_rmse_train = []\n",
    "lista_rmse_test = []\n",
    "\n",
    "# Defino la lista de valores de k que voy a explorar\n",
    "k_vecinos = np.arange(1,15)\n",
    "\n",
    "# Genero en loop sobre los distintos valores de k \n",
    "for k in k_vecinos:\n",
    "     \n",
    "    # Definir el modelo con el valor de vecinos deseado\n",
    "    reg = KNeighborsRegressor(n_neighbors=k)\n",
    "    \n",
    "    # Entrenar el modelo\n",
    "    reg.fit(X_train,y_train)\n",
    "    \n",
    "    # Predecir y evaluar sobre el set de entrenamiento\n",
    "    y_train_pred = reg.predict(X_train)\n",
    "    train_mse = np.sqrt(mean_squared_error(y_train, y_train_pred))\n",
    "    \n",
    "    # Predecir y evaluar sobre el set de evaluación\n",
    "    y_test_pred = reg.predict(X_test)\n",
    "    test_mse = np.sqrt(mean_squared_error(y_test, y_test_pred))\n",
    "    \n",
    "    # Agregar la información a las listas\n",
    "    lista_rmse_train.append(train_mse)\n",
    "    lista_rmse_test.append(test_mse)"
   ]
  },
  {
   "cell_type": "code",
   "execution_count": 44,
   "metadata": {
    "colab": {
     "base_uri": "https://localhost:8080/",
     "height": 406
    },
    "colab_type": "code",
    "id": "Fx-eAMiGlCW7",
    "outputId": "8a674186-aad5-490b-b4e8-f302d9b4e088"
   },
   "outputs": [
    {
     "data": {
      "text/plain": [
       "Text(0, 0.5, 'rmse_test')"
      ]
     },
     "execution_count": 44,
     "metadata": {
      "tags": []
     },
     "output_type": "execute_result"
    },
    {
     "data": {
      "image/png": "[encoded data removed]",
      "text/plain": [
       "<Figure size 1008x432 with 1 Axes>"
      ]
     },
     "metadata": {
      "needs_background": "light",
      "tags": []
     },
     "output_type": "display_data"
    }
   ],
   "source": [
    "plt.figure(figsize = (14,6))\n",
    "plt.plot(k_vecinos,lista_rmse_train,'o-',label='train' )\n",
    "plt.plot(k_vecinos,lista_rmse_test,'o-',label='test')\n",
    "plt.legend()\n",
    "plt.xlabel('rmse_train')\n",
    "plt.ylabel('rmse_test')"
   ]
  },
  {
   "cell_type": "markdown",
   "metadata": {
    "colab_type": "text",
    "id": "fTdZllHEmkJ4"
   },
   "source": [
    "Optimiación para Arboles de desición"
   ]
  },
  {
   "cell_type": "code",
   "execution_count": 45,
   "metadata": {
    "colab": {},
    "colab_type": "code",
    "id": "GtbW329xmjI6"
   },
   "outputs": [],
   "source": [
    "# Defino las listas vacias para los valores de mse deseados\n",
    "lista_rmse_train = []\n",
    "lista_rmse_test = []\n",
    "\n",
    "# Defino la lista de valores de max_depth que voy a explorar\n",
    "max_depths = np.arange(1,30)\n",
    "\n",
    "# Genero en loop sobre los distintos valores de profundidad \n",
    "for max_depth in max_depths:\n",
    "      \n",
    "    # Definir el modelo con el valor de profundidad\n",
    "    tree = DecisionTreeRegressor(max_depth = max_depth, random_state=42)\n",
    "    \n",
    "    # Entrenar el modelo\n",
    "    tree.fit(X_train,y_train)\n",
    "    \n",
    "    # Predecir y evaluar sobre el set de entrenamiento\n",
    "    y_train_pred = tree.predict(X_train)\n",
    "    train_mse = np.sqrt(mean_squared_error(y_train, y_train_pred))\n",
    "    \n",
    "    # Predecir y evaluar sobre el set de evaluación\n",
    "    y_test_pred = tree.predict(X_test)\n",
    "    test_mse = np.sqrt(mean_squared_error(y_test, y_test_pred))\n",
    "    \n",
    "    # Agregar la información a las listas\n",
    "    lista_rmse_train.append(train_mse)\n",
    "    lista_rmse_test.append(test_mse)"
   ]
  },
  {
   "cell_type": "code",
   "execution_count": 46,
   "metadata": {
    "colab": {
     "base_uri": "https://localhost:8080/",
     "height": 405
    },
    "colab_type": "code",
    "id": "fDeosQd4mjR9",
    "outputId": "7d2d9385-31cd-4f64-b795-e7e22984f2f5"
   },
   "outputs": [
    {
     "data": {
      "text/plain": [
       "Text(0, 0.5, 'Exactitud')"
      ]
     },
     "execution_count": 46,
     "metadata": {
      "tags": []
     },
     "output_type": "execute_result"
    },
    {
     "data": {
      "image/png": "[encoded data removed]",
      "text/plain": [
       "<Figure size 1008x432 with 1 Axes>"
      ]
     },
     "metadata": {
      "needs_background": "light",
      "tags": []
     },
     "output_type": "display_data"
    }
   ],
   "source": [
    "plt.figure(figsize = (14,6))\n",
    "plt.plot(max_depths,lista_rmse_train,'o-',label='train' )\n",
    "plt.plot(max_depths,lista_rmse_test,'o-',label='test')\n",
    "plt.legend()\n",
    "plt.xlabel('Profundidad del árbol')\n",
    "plt.ylabel('Exactitud')"
   ]
  },
  {
   "cell_type": "markdown",
   "metadata": {
    "colab_type": "text",
    "id": "elbPlEf372zB"
   },
   "source": [
    "*Corro los modelos con los valores elegidos luego de la optimización*"
   ]
  },
  {
   "cell_type": "code",
   "execution_count": 47,
   "metadata": {
    "colab": {
     "base_uri": "https://localhost:8080/",
     "height": 68
    },
    "colab_type": "code",
    "id": "MVoFGNK-J9v3",
    "outputId": "aa3c03ab-63e9-4eeb-d266-1be42d83ffbb"
   },
   "outputs": [
    {
     "data": {
      "text/plain": [
       "KNeighborsRegressor(algorithm='auto', leaf_size=30, metric='minkowski',\n",
       "                    metric_params=None, n_jobs=None, n_neighbors=10, p=2,\n",
       "                    weights='uniform')"
      ]
     },
     "execution_count": 47,
     "metadata": {
      "tags": []
     },
     "output_type": "execute_result"
    }
   ],
   "source": [
    "tree_regressor = DecisionTreeRegressor(max_depth=11, random_state=42)\n",
    "knn_regressor = KNeighborsRegressor(n_neighbors=10)\n",
    "\n",
    "tree_regressor.fit(X_train, y_train)\n",
    "knn_regressor.fit(X_train, y_train)"
   ]
  },
  {
   "cell_type": "code",
   "execution_count": 48,
   "metadata": {
    "colab": {
     "base_uri": "https://localhost:8080/",
     "height": 919
    },
    "colab_type": "code",
    "id": "wn6KuEWrJ9v5",
    "outputId": "1e76acdf-8763-4f04-e26d-58c95ee2f774"
   },
   "outputs": [
    {
     "name": "stdout",
     "output_type": "stream",
     "text": [
      "Modelo: Árbol de Decisión\n",
      "rmse en Train: 33431.30769604762\n",
      "rmse en Test: 37235.946630570776\n"
     ]
    },
    {
     "data": {
      "image/png": "[encoded data removed]",
      "text/plain": [
       "<Figure size 1008x432 with 2 Axes>"
      ]
     },
     "metadata": {
      "needs_background": "light",
      "tags": []
     },
     "output_type": "display_data"
    },
    {
     "name": "stdout",
     "output_type": "stream",
     "text": [
      "Modelo: Vecinos más cercanos\n",
      "rmse en Train: 29579.1083285873\n",
      "rmse en Test: 32799.82017290752\n"
     ]
    },
    {
     "data": {
      "image/png": "[encoded data removed]",
      "text/plain": [
       "<Figure size 1008x432 with 2 Axes>"
      ]
     },
     "metadata": {
      "needs_background": "light",
      "tags": []
     },
     "output_type": "display_data"
    }
   ],
   "source": [
    "modelos = ['Árbol de Decisión', 'Vecinos más cercanos']\n",
    "\n",
    "for i, model in enumerate([tree_regressor, knn_regressor]):\n",
    "    y_train_pred = model.predict(X_train)\n",
    "    y_test_pred = model.predict(X_test)\n",
    "    \n",
    "    \n",
    "    print(f'Modelo: {modelos[i]}')\n",
    "\n",
    "    rmse_train = np.sqrt(mean_squared_error(y_train, y_train_pred))\n",
    "    rmse_test = np.sqrt(mean_squared_error(y_test, y_test_pred))\n",
    "    print(f'rmse en Train: {rmse_train}')\n",
    "    print(f'rmse en Test: {rmse_test}')\n",
    "    \n",
    "    plt.figure(figsize = (14,6))\n",
    "\n",
    "    plt.subplot(1,2,1)\n",
    "    sns.distplot(y_train - y_train_pred, bins = 20, label = 'train')\n",
    "    sns.distplot(y_test - y_test_pred, bins = 20, label = 'test')\n",
    "    plt.xlabel('errores')\n",
    "    plt.legend()\n",
    "\n",
    "\n",
    "    ax = plt.subplot(1,2,2)\n",
    "    ax.scatter(y_test,y_test_pred, s =2)\n",
    "    \n",
    "    lims = [\n",
    "    np.min([ax.get_xlim(), ax.get_ylim()]),  # min of both axes\n",
    "    np.max([ax.get_xlim(), ax.get_ylim()]),  # max of both axes]\n",
    "    ]\n",
    "    \n",
    "    ax.plot(lims, lims, 'k-', alpha=0.75, zorder=0)\n",
    "    plt.xlabel('y (test)')\n",
    "    plt.ylabel('y_pred (test)')\n",
    "    \n",
    "    plt.tight_layout()\n",
    "    plt.show()"
   ]
  },
  {
   "cell_type": "markdown",
   "metadata": {
    "colab_type": "text",
    "id": "Z5BQgfyg72zF"
   },
   "source": [
    "*Veo cuales fueron las variables mas importantes para el modelo de árboles*"
   ]
  },
  {
   "cell_type": "code",
   "execution_count": 49,
   "metadata": {
    "colab": {
     "base_uri": "https://localhost:8080/",
     "height": 389
    },
    "colab_type": "code",
    "id": "FFFsMS-e72zG",
    "outputId": "9cb403e5-b2ab-46e5-ba33-73e2a9e6236c"
   },
   "outputs": [
    {
     "data": {
      "text/plain": [
       "<matplotlib.axes._subplots.AxesSubplot at 0x7f8a401bdc18>"
      ]
     },
     "execution_count": 49,
     "metadata": {
      "tags": []
     },
     "output_type": "execute_result"
    },
    {
     "data": {
      "image/png": "[encoded data removed]",
      "text/plain": [
       "<Figure size 1008x432 with 1 Axes>"
      ]
     },
     "metadata": {
      "needs_background": "light",
      "tags": []
     },
     "output_type": "display_data"
    }
   ],
   "source": [
    "tree_regressor.feature_importances_\n",
    "feature_inportence=pd.Series(tree_regressor.feature_importances_,index=X_train.columns)\n",
    "plt.figure(figsize = (14,6))\n",
    "feature_inportence.plot(kind='barh')"
   ]
  },
  {
   "cell_type": "markdown",
   "metadata": {
    "colab_type": "text",
    "id": "a71V4izT72zJ"
   },
   "source": [
    "**Conclusión:**\n",
    "\n",
    "Se nota una mejora considerable en el desempeño de los modelos con respecto a los del Proyecto 1, considero que se debe a la transformación de datos aplicada en cada uno de los puntos de este apartado, también vale destacar que la varible barrios_enc que surge de la transformación de la varible categórica l2, es la segunda variable mas importante en el modelo de árboles de desición."
   ]
  },
  {
   "cell_type": "markdown",
   "metadata": {
    "colab_type": "text",
    "id": "MZNzXgi8J9v7"
   },
   "source": [
    "## PARTE B - Modelos Avanzados"
   ]
  },
  {
   "cell_type": "markdown",
   "metadata": {
    "colab_type": "text",
    "id": "8IuPIftfJ9v8"
   },
   "source": [
    "**Modelo: Regresión lineal con atributos polinómicos y regularización**"
   ]
  },
  {
   "cell_type": "markdown",
   "metadata": {
    "colab_type": "text",
    "id": "tUfUh6i6J9v8"
   },
   "source": [
    "*Repito el proceso del punto A para separar los datos y y hacer un train test/test split de los datos*"
   ]
  },
  {
   "cell_type": "code",
   "execution_count": 50,
   "metadata": {
    "colab": {
     "base_uri": "https://localhost:8080/",
     "height": 0
    },
    "colab_type": "code",
    "id": "S6RJxiZ5J9v8",
    "outputId": "41c22966-e4d1-4dea-a05c-35310dd2e8fd"
   },
   "outputs": [
    {
     "data": {
      "text/plain": [
       "(65681, 9)"
      ]
     },
     "execution_count": 50,
     "metadata": {
      "tags": []
     },
     "output_type": "execute_result"
    }
   ],
   "source": [
    "#Volvemos separar los datos tal como hicimos en el punto A\n",
    "X = data_modelos.drop(\"price\", axis=1)\n",
    "y = data_modelos.price\n",
    "X.shape"
   ]
  },
  {
   "cell_type": "code",
   "execution_count": 51,
   "metadata": {
    "colab": {
     "base_uri": "https://localhost:8080/",
     "height": 0
    },
    "colab_type": "code",
    "id": "VYbs4iaEJ9v_",
    "outputId": "378e695f-b2a2-4a3a-8e6a-246da991f5b5"
   },
   "outputs": [
    {
     "name": "stdout",
     "output_type": "stream",
     "text": [
      "(45976, 9) (45976,) (19705, 9) (19705,)\n"
     ]
    }
   ],
   "source": [
    "# hacemos un Train/Test split de los datos\n",
    "X_train, X_test, y_train, y_test = train_test_split(X, y, test_size=0.3, random_state=42)\n",
    "print(X_train.shape, y_train.shape, X_test.shape, y_test.shape)"
   ]
  },
  {
   "cell_type": "markdown",
   "metadata": {
    "colab_type": "text",
    "id": "mzNHXEOpJ9wB"
   },
   "source": [
    "*Creo un objeto a partir de PolynomialFeatures*"
   ]
  },
  {
   "cell_type": "code",
   "execution_count": 52,
   "metadata": {
    "colab": {
     "base_uri": "https://localhost:8080/",
     "height": 0
    },
    "colab_type": "code",
    "id": "h_yr64B_J9wC",
    "outputId": "5100932b-f06c-4334-c16b-6e67ef654bbc"
   },
   "outputs": [
    {
     "name": "stdout",
     "output_type": "stream",
     "text": [
      "(45976, 219) (19705, 219)\n"
     ]
    }
   ],
   "source": [
    "# debido a que el dataset ya posee un nro considerable de variables utilizo grado 3\n",
    "poly = PolynomialFeatures(3,include_bias=False)\n",
    "X_train_new = poly.fit_transform(X_train)\n",
    "X_test_new = poly.fit_transform(X_test)\n",
    "print(X_train_new.shape, X_test_new.shape)"
   ]
  },
  {
   "cell_type": "markdown",
   "metadata": {
    "colab_type": "text",
    "id": "5OCRHUjoJ9wM"
   },
   "source": [
    "*Aplico regularización entrenando un modelo Ridge*\n",
    "\n",
    "*En este caso como parámetro para GridSearchCV tomamos distintos valores de Alpha*"
   ]
  },
  {
   "cell_type": "code",
   "execution_count": 53,
   "metadata": {
    "colab": {},
    "colab_type": "code",
    "id": "7Q01OQO6J9wM"
   },
   "outputs": [],
   "source": [
    "model = Ridge()"
   ]
  },
  {
   "cell_type": "code",
   "execution_count": 54,
   "metadata": {
    "colab": {},
    "colab_type": "code",
    "id": "nlsa232U72zS"
   },
   "outputs": [],
   "source": [
    "params = {'alpha': [1, 0.5, 0.2, 0.1, 0.05, 0.02, 0.01]}"
   ]
  },
  {
   "cell_type": "code",
   "execution_count": 55,
   "metadata": {
    "colab": {
     "base_uri": "https://localhost:8080/",
     "height": 0
    },
    "colab_type": "code",
    "id": "UM56jIGb72zT",
    "outputId": "37540aa0-8db7-4fd0-efe4-6d21ce63c9fc"
   },
   "outputs": [
    {
     "data": {
      "text/plain": [
       "GridSearchCV(cv=5, error_score=nan,\n",
       "             estimator=Ridge(alpha=1.0, copy_X=True, fit_intercept=True,\n",
       "                             max_iter=None, normalize=False, random_state=None,\n",
       "                             solver='auto', tol=0.001),\n",
       "             iid='deprecated', n_jobs=None,\n",
       "             param_grid={'alpha': [1, 0.5, 0.2, 0.1, 0.05, 0.02, 0.01]},\n",
       "             pre_dispatch='2*n_jobs', refit=True, return_train_score=False,\n",
       "             scoring=None, verbose=0)"
      ]
     },
     "execution_count": 55,
     "metadata": {
      "tags": []
     },
     "output_type": "execute_result"
    }
   ],
   "source": [
    "grid_ridge= GridSearchCV(model, params, cv=5)\n",
    "grid_ridge.fit(X_train_new,y_train)"
   ]
  },
  {
   "cell_type": "code",
   "execution_count": 56,
   "metadata": {
    "colab": {},
    "colab_type": "code",
    "id": "erzqfGWYJ9wO"
   },
   "outputs": [],
   "source": [
    "#Predecimos sobre train y test\n",
    "y_train_ridge = grid_ridge.predict(X_train_new)\n",
    "y_test_ridge = grid_ridge.predict(X_test_new)"
   ]
  },
  {
   "cell_type": "code",
   "execution_count": 57,
   "metadata": {
    "colab": {
     "base_uri": "https://localhost:8080/",
     "height": 0
    },
    "colab_type": "code",
    "id": "1IL-lqstJ9wQ",
    "outputId": "9314b4ea-7979-40a8-82a3-58ad8dad13e5"
   },
   "outputs": [
    {
     "name": "stdout",
     "output_type": "stream",
     "text": [
      "Raíz del error cuadrático medio en Train: 45706.509999319635\n",
      "Raíz del error cuadrático medio en Test: 50681.61150614115\n"
     ]
    }
   ],
   "source": [
    "#Calculamos el error en train y test\n",
    "rmse_train = np.sqrt(mean_squared_error(y_train, y_train_ridge))\n",
    "rmse_test = np.sqrt(mean_squared_error(y_test, y_test_ridge))\n",
    "print(f'Raíz del error cuadrático medio en Train: {rmse_train}')\n",
    "print(f'Raíz del error cuadrático medio en Test: {rmse_test}')"
   ]
  },
  {
   "cell_type": "markdown",
   "metadata": {
    "colab_type": "text",
    "id": "LzSy0tYX72zY"
   },
   "source": [
    "*Mejores parametros modelo Ridge*"
   ]
  },
  {
   "cell_type": "code",
   "execution_count": 58,
   "metadata": {
    "colab": {
     "base_uri": "https://localhost:8080/",
     "height": 0
    },
    "colab_type": "code",
    "id": "1rjEftAk72zY",
    "outputId": "f38a8b00-a46c-4ca9-d1a9-4c49c801dc20"
   },
   "outputs": [
    {
     "name": "stdout",
     "output_type": "stream",
     "text": [
      "Mejores parametros: {'alpha': 1}\n",
      "Mejor Score: 0.6526331149048592\n",
      "\n"
     ]
    },
    {
     "data": {
      "text/html": [
       "<div>\n",
       "<style scoped>\n",
       "    .dataframe tbody tr th:only-of-type {\n",
       "        vertical-align: middle;\n",
       "    }\n",
       "\n",
       "    .dataframe tbody tr th {\n",
       "        vertical-align: top;\n",
       "    }\n",
       "\n",
       "    .dataframe thead th {\n",
       "        text-align: right;\n",
       "    }\n",
       "</style>\n",
       "<table border=\"1\" class=\"dataframe\">\n",
       "  <thead>\n",
       "    <tr style=\"text-align: right;\">\n",
       "      <th></th>\n",
       "      <th>mean_fit_time</th>\n",
       "      <th>std_fit_time</th>\n",
       "      <th>mean_score_time</th>\n",
       "      <th>std_score_time</th>\n",
       "      <th>param_alpha</th>\n",
       "      <th>params</th>\n",
       "      <th>split0_test_score</th>\n",
       "      <th>split1_test_score</th>\n",
       "      <th>split2_test_score</th>\n",
       "      <th>split3_test_score</th>\n",
       "      <th>split4_test_score</th>\n",
       "      <th>mean_test_score</th>\n",
       "      <th>std_test_score</th>\n",
       "      <th>rank_test_score</th>\n",
       "    </tr>\n",
       "  </thead>\n",
       "  <tbody>\n",
       "    <tr>\n",
       "      <th>0</th>\n",
       "      <td>0.204583</td>\n",
       "      <td>0.032444</td>\n",
       "      <td>0.007795</td>\n",
       "      <td>0.005982</td>\n",
       "      <td>1</td>\n",
       "      <td>{'alpha': 1}</td>\n",
       "      <td>0.661331</td>\n",
       "      <td>0.661000</td>\n",
       "      <td>0.653424</td>\n",
       "      <td>0.630946</td>\n",
       "      <td>0.656465</td>\n",
       "      <td>0.652633</td>\n",
       "      <td>0.011237</td>\n",
       "      <td>1</td>\n",
       "    </tr>\n",
       "    <tr>\n",
       "      <th>1</th>\n",
       "      <td>0.182669</td>\n",
       "      <td>0.006082</td>\n",
       "      <td>0.004725</td>\n",
       "      <td>0.000229</td>\n",
       "      <td>0.5</td>\n",
       "      <td>{'alpha': 0.5}</td>\n",
       "      <td>0.661327</td>\n",
       "      <td>0.660989</td>\n",
       "      <td>0.653426</td>\n",
       "      <td>0.630958</td>\n",
       "      <td>0.656462</td>\n",
       "      <td>0.652632</td>\n",
       "      <td>0.011230</td>\n",
       "      <td>2</td>\n",
       "    </tr>\n",
       "    <tr>\n",
       "      <th>2</th>\n",
       "      <td>0.178050</td>\n",
       "      <td>0.006517</td>\n",
       "      <td>0.004423</td>\n",
       "      <td>0.000074</td>\n",
       "      <td>0.2</td>\n",
       "      <td>{'alpha': 0.2}</td>\n",
       "      <td>0.661320</td>\n",
       "      <td>0.660979</td>\n",
       "      <td>0.653427</td>\n",
       "      <td>0.630966</td>\n",
       "      <td>0.656460</td>\n",
       "      <td>0.652631</td>\n",
       "      <td>0.011224</td>\n",
       "      <td>3</td>\n",
       "    </tr>\n",
       "    <tr>\n",
       "      <th>3</th>\n",
       "      <td>0.176156</td>\n",
       "      <td>0.004587</td>\n",
       "      <td>0.004483</td>\n",
       "      <td>0.000182</td>\n",
       "      <td>0.1</td>\n",
       "      <td>{'alpha': 0.1}</td>\n",
       "      <td>0.661317</td>\n",
       "      <td>0.660975</td>\n",
       "      <td>0.653428</td>\n",
       "      <td>0.630969</td>\n",
       "      <td>0.656459</td>\n",
       "      <td>0.652630</td>\n",
       "      <td>0.011221</td>\n",
       "      <td>4</td>\n",
       "    </tr>\n",
       "    <tr>\n",
       "      <th>4</th>\n",
       "      <td>0.177172</td>\n",
       "      <td>0.004634</td>\n",
       "      <td>0.004635</td>\n",
       "      <td>0.000159</td>\n",
       "      <td>0.05</td>\n",
       "      <td>{'alpha': 0.05}</td>\n",
       "      <td>0.661315</td>\n",
       "      <td>0.660973</td>\n",
       "      <td>0.653428</td>\n",
       "      <td>0.630971</td>\n",
       "      <td>0.656458</td>\n",
       "      <td>0.652629</td>\n",
       "      <td>0.011220</td>\n",
       "      <td>5</td>\n",
       "    </tr>\n",
       "    <tr>\n",
       "      <th>5</th>\n",
       "      <td>0.185877</td>\n",
       "      <td>0.009163</td>\n",
       "      <td>0.004743</td>\n",
       "      <td>0.000300</td>\n",
       "      <td>0.02</td>\n",
       "      <td>{'alpha': 0.02}</td>\n",
       "      <td>0.661314</td>\n",
       "      <td>0.660972</td>\n",
       "      <td>0.653428</td>\n",
       "      <td>0.630972</td>\n",
       "      <td>0.656458</td>\n",
       "      <td>0.652629</td>\n",
       "      <td>0.011219</td>\n",
       "      <td>6</td>\n",
       "    </tr>\n",
       "    <tr>\n",
       "      <th>6</th>\n",
       "      <td>0.177184</td>\n",
       "      <td>0.004918</td>\n",
       "      <td>0.004628</td>\n",
       "      <td>0.000217</td>\n",
       "      <td>0.01</td>\n",
       "      <td>{'alpha': 0.01}</td>\n",
       "      <td>0.661313</td>\n",
       "      <td>0.660971</td>\n",
       "      <td>0.653428</td>\n",
       "      <td>0.630972</td>\n",
       "      <td>0.656458</td>\n",
       "      <td>0.652629</td>\n",
       "      <td>0.011219</td>\n",
       "      <td>7</td>\n",
       "    </tr>\n",
       "  </tbody>\n",
       "</table>\n",
       "</div>"
      ],
      "text/plain": [
       "   mean_fit_time  std_fit_time  ...  std_test_score  rank_test_score\n",
       "0       0.204583      0.032444  ...        0.011237                1\n",
       "1       0.182669      0.006082  ...        0.011230                2\n",
       "2       0.178050      0.006517  ...        0.011224                3\n",
       "3       0.176156      0.004587  ...        0.011221                4\n",
       "4       0.177172      0.004634  ...        0.011220                5\n",
       "5       0.185877      0.009163  ...        0.011219                6\n",
       "6       0.177184      0.004918  ...        0.011219                7\n",
       "\n",
       "[7 rows x 14 columns]"
      ]
     },
     "execution_count": 58,
     "metadata": {
      "tags": []
     },
     "output_type": "execute_result"
    }
   ],
   "source": [
    "print(\"Mejores parametros: \"+str(grid_ridge.best_params_))\n",
    "print(\"Mejor Score: \"+str(grid_ridge.best_score_)+'\\n')\n",
    "\n",
    "scores = pd.DataFrame(grid_ridge.cv_results_)\n",
    "scores"
   ]
  },
  {
   "cell_type": "markdown",
   "metadata": {
    "colab_type": "text",
    "id": "cmSogkOQJ9wT"
   },
   "source": [
    "*Aplico regularización entrenando un modelo Lasso*\n",
    "\n",
    "*En este caso como parámetro para GridSearchCV tomamos distintos valores de Alpha*"
   ]
  },
  {
   "cell_type": "code",
   "execution_count": 59,
   "metadata": {
    "colab": {},
    "colab_type": "code",
    "id": "Ht4xKk2hJ9wU"
   },
   "outputs": [],
   "source": [
    "model = Lasso()"
   ]
  },
  {
   "cell_type": "code",
   "execution_count": 60,
   "metadata": {
    "colab": {},
    "colab_type": "code",
    "id": "keDSjS_G72zb"
   },
   "outputs": [],
   "source": [
    "params = {'alpha': [1, 0.5, 0.2, 0.1, 0.05, 0.02, 0.01]}"
   ]
  },
  {
   "cell_type": "code",
   "execution_count": 61,
   "metadata": {
    "colab": {
     "base_uri": "https://localhost:8080/",
     "height": 0
    },
    "colab_type": "code",
    "id": "Nt86gigF72zd",
    "outputId": "4142783a-d009-4894-97c9-fec22409a73e"
   },
   "outputs": [
    {
     "data": {
      "text/plain": [
       "GridSearchCV(cv=5, error_score=nan,\n",
       "             estimator=Lasso(alpha=1.0, copy_X=True, fit_intercept=True,\n",
       "                             max_iter=1000, normalize=False, positive=False,\n",
       "                             precompute=False, random_state=None,\n",
       "                             selection='cyclic', tol=0.0001, warm_start=False),\n",
       "             iid='deprecated', n_jobs=None,\n",
       "             param_grid={'alpha': [1, 0.5, 0.2, 0.1, 0.05, 0.02, 0.01]},\n",
       "             pre_dispatch='2*n_jobs', refit=True, return_train_score=False,\n",
       "             scoring=None, verbose=0)"
      ]
     },
     "execution_count": 61,
     "metadata": {
      "tags": []
     },
     "output_type": "execute_result"
    }
   ],
   "source": [
    "grid_lasso= GridSearchCV(model, params, cv=5)\n",
    "grid_lasso.fit(X_train_new,y_train)"
   ]
  },
  {
   "cell_type": "code",
   "execution_count": 62,
   "metadata": {
    "colab": {},
    "colab_type": "code",
    "id": "Uv-WUWa9J9wW"
   },
   "outputs": [],
   "source": [
    "#Predecimos sobre train y test\n",
    "y_train_lasso = grid_lasso.predict(X_train_new)\n",
    "y_test_lasso = grid_lasso.predict(X_test_new)"
   ]
  },
  {
   "cell_type": "code",
   "execution_count": 63,
   "metadata": {
    "colab": {
     "base_uri": "https://localhost:8080/",
     "height": 0
    },
    "colab_type": "code",
    "id": "oe2LlQoXJ9wY",
    "outputId": "31c50e95-df5b-4f25-a406-77efcf8e14c8"
   },
   "outputs": [
    {
     "name": "stdout",
     "output_type": "stream",
     "text": [
      "Raíz del error cuadrático medio en Train: 45715.57149309438\n",
      "Raíz del error cuadrático medio en Test: 47093.850145799486\n"
     ]
    }
   ],
   "source": [
    "#Calculamos el error en train y test\n",
    "rmse_train = np.sqrt(mean_squared_error(y_train, y_train_lasso))\n",
    "rmse_test = np.sqrt(mean_squared_error(y_test, y_test_lasso))\n",
    "print(f'Raíz del error cuadrático medio en Train: {rmse_train}')\n",
    "print(f'Raíz del error cuadrático medio en Test: {rmse_test}')"
   ]
  },
  {
   "cell_type": "markdown",
   "metadata": {
    "colab_type": "text",
    "id": "SX67waMw72zh"
   },
   "source": [
    "*Mejores parámetros modelo Lasso*"
   ]
  },
  {
   "cell_type": "code",
   "execution_count": 64,
   "metadata": {
    "colab": {
     "base_uri": "https://localhost:8080/",
     "height": 0
    },
    "colab_type": "code",
    "id": "cPwO_RoH72zi",
    "outputId": "e3907c92-eb91-48e5-e923-8bb602782f06"
   },
   "outputs": [
    {
     "name": "stdout",
     "output_type": "stream",
     "text": [
      "Mejores parametros: {'alpha': 1}\n",
      "Mejor Score: 0.6528347058401078\n",
      "\n"
     ]
    },
    {
     "data": {
      "text/html": [
       "<div>\n",
       "<style scoped>\n",
       "    .dataframe tbody tr th:only-of-type {\n",
       "        vertical-align: middle;\n",
       "    }\n",
       "\n",
       "    .dataframe tbody tr th {\n",
       "        vertical-align: top;\n",
       "    }\n",
       "\n",
       "    .dataframe thead th {\n",
       "        text-align: right;\n",
       "    }\n",
       "</style>\n",
       "<table border=\"1\" class=\"dataframe\">\n",
       "  <thead>\n",
       "    <tr style=\"text-align: right;\">\n",
       "      <th></th>\n",
       "      <th>mean_fit_time</th>\n",
       "      <th>std_fit_time</th>\n",
       "      <th>mean_score_time</th>\n",
       "      <th>std_score_time</th>\n",
       "      <th>param_alpha</th>\n",
       "      <th>params</th>\n",
       "      <th>split0_test_score</th>\n",
       "      <th>split1_test_score</th>\n",
       "      <th>split2_test_score</th>\n",
       "      <th>split3_test_score</th>\n",
       "      <th>split4_test_score</th>\n",
       "      <th>mean_test_score</th>\n",
       "      <th>std_test_score</th>\n",
       "      <th>rank_test_score</th>\n",
       "    </tr>\n",
       "  </thead>\n",
       "  <tbody>\n",
       "    <tr>\n",
       "      <th>0</th>\n",
       "      <td>9.847866</td>\n",
       "      <td>0.073445</td>\n",
       "      <td>0.004608</td>\n",
       "      <td>0.000186</td>\n",
       "      <td>1</td>\n",
       "      <td>{'alpha': 1}</td>\n",
       "      <td>0.661323</td>\n",
       "      <td>0.661433</td>\n",
       "      <td>0.653528</td>\n",
       "      <td>0.631046</td>\n",
       "      <td>0.656843</td>\n",
       "      <td>0.652835</td>\n",
       "      <td>0.011290</td>\n",
       "      <td>1</td>\n",
       "    </tr>\n",
       "    <tr>\n",
       "      <th>1</th>\n",
       "      <td>10.139846</td>\n",
       "      <td>0.112532</td>\n",
       "      <td>0.004974</td>\n",
       "      <td>0.000362</td>\n",
       "      <td>0.5</td>\n",
       "      <td>{'alpha': 0.5}</td>\n",
       "      <td>0.661320</td>\n",
       "      <td>0.661374</td>\n",
       "      <td>0.653574</td>\n",
       "      <td>0.631023</td>\n",
       "      <td>0.656847</td>\n",
       "      <td>0.652828</td>\n",
       "      <td>0.011290</td>\n",
       "      <td>2</td>\n",
       "    </tr>\n",
       "    <tr>\n",
       "      <th>2</th>\n",
       "      <td>10.540363</td>\n",
       "      <td>0.213664</td>\n",
       "      <td>0.005161</td>\n",
       "      <td>0.000415</td>\n",
       "      <td>0.2</td>\n",
       "      <td>{'alpha': 0.2}</td>\n",
       "      <td>0.661324</td>\n",
       "      <td>0.661333</td>\n",
       "      <td>0.653563</td>\n",
       "      <td>0.630997</td>\n",
       "      <td>0.656839</td>\n",
       "      <td>0.652811</td>\n",
       "      <td>0.011294</td>\n",
       "      <td>3</td>\n",
       "    </tr>\n",
       "    <tr>\n",
       "      <th>3</th>\n",
       "      <td>10.597385</td>\n",
       "      <td>0.217792</td>\n",
       "      <td>0.005131</td>\n",
       "      <td>0.000249</td>\n",
       "      <td>0.1</td>\n",
       "      <td>{'alpha': 0.1}</td>\n",
       "      <td>0.661322</td>\n",
       "      <td>0.661328</td>\n",
       "      <td>0.653557</td>\n",
       "      <td>0.630992</td>\n",
       "      <td>0.656834</td>\n",
       "      <td>0.652807</td>\n",
       "      <td>0.011294</td>\n",
       "      <td>4</td>\n",
       "    </tr>\n",
       "    <tr>\n",
       "      <th>4</th>\n",
       "      <td>10.359929</td>\n",
       "      <td>0.253262</td>\n",
       "      <td>0.004867</td>\n",
       "      <td>0.000190</td>\n",
       "      <td>0.05</td>\n",
       "      <td>{'alpha': 0.05}</td>\n",
       "      <td>0.661321</td>\n",
       "      <td>0.661325</td>\n",
       "      <td>0.653553</td>\n",
       "      <td>0.630989</td>\n",
       "      <td>0.656834</td>\n",
       "      <td>0.652804</td>\n",
       "      <td>0.011295</td>\n",
       "      <td>5</td>\n",
       "    </tr>\n",
       "    <tr>\n",
       "      <th>5</th>\n",
       "      <td>10.275481</td>\n",
       "      <td>0.106125</td>\n",
       "      <td>0.004795</td>\n",
       "      <td>0.000077</td>\n",
       "      <td>0.02</td>\n",
       "      <td>{'alpha': 0.02}</td>\n",
       "      <td>0.661321</td>\n",
       "      <td>0.661324</td>\n",
       "      <td>0.653551</td>\n",
       "      <td>0.630986</td>\n",
       "      <td>0.656832</td>\n",
       "      <td>0.652803</td>\n",
       "      <td>0.011295</td>\n",
       "      <td>6</td>\n",
       "    </tr>\n",
       "    <tr>\n",
       "      <th>6</th>\n",
       "      <td>10.392154</td>\n",
       "      <td>0.183030</td>\n",
       "      <td>0.004725</td>\n",
       "      <td>0.000129</td>\n",
       "      <td>0.01</td>\n",
       "      <td>{'alpha': 0.01}</td>\n",
       "      <td>0.661321</td>\n",
       "      <td>0.661324</td>\n",
       "      <td>0.653550</td>\n",
       "      <td>0.630985</td>\n",
       "      <td>0.656832</td>\n",
       "      <td>0.652802</td>\n",
       "      <td>0.011296</td>\n",
       "      <td>7</td>\n",
       "    </tr>\n",
       "  </tbody>\n",
       "</table>\n",
       "</div>"
      ],
      "text/plain": [
       "   mean_fit_time  std_fit_time  ...  std_test_score  rank_test_score\n",
       "0       9.847866      0.073445  ...        0.011290                1\n",
       "1      10.139846      0.112532  ...        0.011290                2\n",
       "2      10.540363      0.213664  ...        0.011294                3\n",
       "3      10.597385      0.217792  ...        0.011294                4\n",
       "4      10.359929      0.253262  ...        0.011295                5\n",
       "5      10.275481      0.106125  ...        0.011295                6\n",
       "6      10.392154      0.183030  ...        0.011296                7\n",
       "\n",
       "[7 rows x 14 columns]"
      ]
     },
     "execution_count": 64,
     "metadata": {
      "tags": []
     },
     "output_type": "execute_result"
    }
   ],
   "source": [
    "print(\"Mejores parametros: \"+str(grid_lasso.best_params_))\n",
    "print(\"Mejor Score: \"+str(grid_lasso.best_score_)+'\\n')\n",
    "\n",
    "scores = pd.DataFrame(grid_lasso.cv_results_)\n",
    "scores"
   ]
  },
  {
   "cell_type": "markdown",
   "metadata": {
    "colab_type": "text",
    "id": "FcPOO7DCJ9wb"
   },
   "source": [
    "**Modelo: Randon Forest**"
   ]
  },
  {
   "cell_type": "code",
   "execution_count": 65,
   "metadata": {
    "colab": {
     "base_uri": "https://localhost:8080/",
     "height": 0
    },
    "colab_type": "code",
    "id": "awArgjWy72zl",
    "outputId": "6223cf91-a6f9-4249-f4c7-df79230231cd"
   },
   "outputs": [
    {
     "data": {
      "text/plain": [
       "(65681, 9)"
      ]
     },
     "execution_count": 65,
     "metadata": {
      "tags": []
     },
     "output_type": "execute_result"
    }
   ],
   "source": [
    "X = data_modelos.drop(\"price\", axis=1)\n",
    "y = data_modelos.price\n",
    "X.shape"
   ]
  },
  {
   "cell_type": "code",
   "execution_count": 66,
   "metadata": {
    "colab": {
     "base_uri": "https://localhost:8080/",
     "height": 0
    },
    "colab_type": "code",
    "id": "bYqSK5j_72zo",
    "outputId": "7de88a50-2145-4c3e-efc6-4a9f57eff769"
   },
   "outputs": [
    {
     "name": "stdout",
     "output_type": "stream",
     "text": [
      "(45976, 9) (45976,) (19705, 9) (19705,)\n"
     ]
    }
   ],
   "source": [
    "# hacemos un Train/Test split de los datos\n",
    "X_train, X_test, y_train, y_test = train_test_split(X, y, test_size=0.3, random_state=42)\n",
    "print(X_train.shape, y_train.shape, X_test.shape, y_test.shape)"
   ]
  },
  {
   "cell_type": "code",
   "execution_count": 67,
   "metadata": {
    "colab": {
     "base_uri": "https://localhost:8080/",
     "height": 0
    },
    "colab_type": "code",
    "id": "NFoW_U1O72zp",
    "outputId": "0f3910af-8427-4d10-9897-56335a4acc8c"
   },
   "outputs": [
    {
     "data": {
      "text/plain": [
       "RandomForestClassifier(bootstrap=True, ccp_alpha=0.0, class_weight=None,\n",
       "                       criterion='gini', max_depth=25, max_features='sqrt',\n",
       "                       max_leaf_nodes=None, max_samples=None,\n",
       "                       min_impurity_decrease=0.0, min_impurity_split=None,\n",
       "                       min_samples_leaf=1, min_samples_split=2,\n",
       "                       min_weight_fraction_leaf=0.0, n_estimators=10, n_jobs=-1,\n",
       "                       oob_score=False, random_state=None, verbose=0,\n",
       "                       warm_start=False)"
      ]
     },
     "execution_count": 67,
     "metadata": {
      "tags": []
     },
     "output_type": "execute_result"
    }
   ],
   "source": [
    "clf = RandomForestClassifier(n_estimators=10,max_features='sqrt',max_depth=25,bootstrap= True, n_jobs=-1)\n",
    "clf.fit(X_train,y_train)"
   ]
  },
  {
   "cell_type": "code",
   "execution_count": 68,
   "metadata": {
    "colab": {},
    "colab_type": "code",
    "id": "OISRxfDg72zq"
   },
   "outputs": [],
   "source": [
    "y_train_pred = clf.predict(X_train)\n",
    "y_test_pred = clf.predict(X_test)"
   ]
  },
  {
   "cell_type": "code",
   "execution_count": 69,
   "metadata": {
    "colab": {
     "base_uri": "https://localhost:8080/",
     "height": 0
    },
    "colab_type": "code",
    "id": "vXplFrr3J9wf",
    "outputId": "6e672de5-ca7e-4fa7-ba49-a5552bde5d6a"
   },
   "outputs": [
    {
     "name": "stdout",
     "output_type": "stream",
     "text": [
      "Raíz del error cuadrático medio en Train: 18473.805332859843\n",
      "Raíz del error cuadrático medio en Test: 39054.795239701634\n"
     ]
    }
   ],
   "source": [
    "#Calculamos el error en train y test\n",
    "rmse_train = np.sqrt(mean_squared_error(y_train, y_train_pred))\n",
    "rmse_test = np.sqrt(mean_squared_error(y_test, y_test_pred))\n",
    "print(f'Raíz del error cuadrático medio en Train: {rmse_train}')\n",
    "print(f'Raíz del error cuadrático medio en Test: {rmse_test}')"
   ]
  },
  {
   "cell_type": "markdown",
   "metadata": {
    "colab_type": "text",
    "id": "gco16hCY72zt"
   },
   "source": [
    "*Variables mas importantes modelo Random Forest*"
   ]
  },
  {
   "cell_type": "code",
   "execution_count": 70,
   "metadata": {
    "colab": {
     "base_uri": "https://localhost:8080/",
     "height": 0
    },
    "colab_type": "code",
    "id": "49Y6vhLI72zt",
    "outputId": "bd6c96d1-b05a-4437-d425-54f31c372b65"
   },
   "outputs": [
    {
     "data": {
      "text/plain": [
       "<matplotlib.axes._subplots.AxesSubplot at 0x7f8a40346278>"
      ]
     },
     "execution_count": 70,
     "metadata": {
      "tags": []
     },
     "output_type": "execute_result"
    },
    {
     "data": {
      "image/png": "[encoded data removed]",
      "text/plain": [
       "<Figure size 1008x432 with 1 Axes>"
      ]
     },
     "metadata": {
      "needs_background": "light",
      "tags": []
     },
     "output_type": "display_data"
    }
   ],
   "source": [
    "clf.feature_importances_\n",
    "feature_inportence=pd.Series(clf.feature_importances_,index=X_train.columns)\n",
    "plt.figure(figsize = (14,6))\n",
    "feature_inportence.plot(kind='barh')"
   ]
  },
  {
   "cell_type": "markdown",
   "metadata": {
    "colab_type": "text",
    "id": "Mbalq8Y772zu"
   },
   "source": [
    "**Comparación de modelos**"
   ]
  },
  {
   "cell_type": "markdown",
   "metadata": {
    "colab_type": "text",
    "id": "JATcJqkA72zv"
   },
   "source": [
    "Comparando los modelos del punto b entre sí considero que Ridge y Lasso no están funcionando de acuerdo a lo esperado, por lo que pude investigar Ridge funciona mejor cuando la mayoría de los atributos son relevantes (no es el caso de este dataset), y Lasso cuando los atributos están muy correlacionados entre sí, en este caso hay correlación fuerte entre algunos atributos, pero el desempeño no es el esperado, Random Forest tiene buen desempeño en train pero no así en test, considero que es debido a que lo corrí solamente con 10 arboles debido a la limitación de memoria de mi máquina, lo mismo me pasó con colab, ni tampoco pude optimizar los parámetros con Grid o random Search, seguramente con más árboles podría llegar a una mejor estimación.\n",
    "\n",
    "Y por último comparado con los modelos del punto A seguramente elegiría Random Forest y llegaría a un mejor desempeño pero para ello debo contar con los recursos necesarios para ejecutarlo. "
   ]
  },
  {
   "cell_type": "markdown",
   "metadata": {
    "colab_type": "text",
    "id": "8h6h5UBN72zv"
   },
   "source": [
    "## PARTE C - Interpretación de Modelos"
   ]
  },
  {
   "cell_type": "markdown",
   "metadata": {
    "colab_type": "text",
    "id": "TabYnwWw72zv"
   },
   "source": [
    "Toamando como ejemplo el modelo Random Forest, podemos decir que como feature mas importante tomo a los barrios, luego la superficie total y la superfice cubierta, en el primer punto el modelo de árbol de desición prevaleció la superficie cubierta por sobre el resto de las variables. Un dato no menor es que en Random Forest si bien el rmse_train es bueno comparado con los otros modelos, hay mucha diferencia con el rmse en test, por lo que sería necesario correrlo con mas árboles, tal como expresé en el punto anterior usé solo 10 por la limitación de memoria, tanto en mi máquina como en colab, por lo cual me parece que con mas árboles se podría optimizar el rsme y obtener una mejor estimación. En este punto esperaba poder correr sin problemas Random Forest y que el error en test sea parecido al de train, a fin de asegurar que el modelo es el óptimo.\n",
    "\n",
    "A continuación muestro el peso de cada variable en los 10 árboles generados en Random Forest, en general no hay mucha diferencia en los árboles ya que en todos la variable mas importante son los barrios, solo en algunos cambia la superficie total por la superficie cubierta."
   ]
  },
  {
   "cell_type": "code",
   "execution_count": 71,
   "metadata": {
    "colab": {
     "base_uri": "https://localhost:8080/",
     "height": 0
    },
    "colab_type": "code",
    "id": "QPeQjozH72zw",
    "outputId": "c68f4c38-f53e-4121-8532-21b0a8e416a4"
   },
   "outputs": [
    {
     "name": "stdout",
     "output_type": "stream",
     "text": [
      "Features mas importantes arbol: 0\n",
      "rooms                         0.026363\n",
      "bedrooms                      0.018178\n",
      "bathrooms                     0.031982\n",
      "surface_total                 0.271433\n",
      "surface_covered               0.259031\n",
      "property_type_Casa            0.001712\n",
      "property_type_Departamento    0.006278\n",
      "property_type_PH              0.005286\n",
      "barrios_enc                   0.379738\n",
      "dtype: float64\n",
      "Features mas importantes arbol: 1\n",
      "rooms                         0.011312\n",
      "bedrooms                      0.014693\n",
      "bathrooms                     0.015095\n",
      "surface_total                 0.283992\n",
      "surface_covered               0.288215\n",
      "property_type_Casa            0.000741\n",
      "property_type_Departamento    0.001035\n",
      "property_type_PH              0.000269\n",
      "barrios_enc                   0.384647\n",
      "dtype: float64\n",
      "Features mas importantes arbol: 2\n",
      "rooms                         0.022831\n",
      "bedrooms                      0.022624\n",
      "bathrooms                     0.032971\n",
      "surface_total                 0.279301\n",
      "surface_covered               0.225886\n",
      "property_type_Casa            0.002697\n",
      "property_type_Departamento    0.006057\n",
      "property_type_PH              0.006823\n",
      "barrios_enc                   0.400809\n",
      "dtype: float64\n",
      "Features mas importantes arbol: 3\n",
      "rooms                         0.022398\n",
      "bedrooms                      0.018333\n",
      "bathrooms                     0.015020\n",
      "surface_total                 0.295078\n",
      "surface_covered               0.294078\n",
      "property_type_Casa            0.002709\n",
      "property_type_Departamento    0.009453\n",
      "property_type_PH              0.012768\n",
      "barrios_enc                   0.330162\n",
      "dtype: float64\n",
      "Features mas importantes arbol: 4\n",
      "rooms                         0.035341\n",
      "bedrooms                      0.028249\n",
      "bathrooms                     0.027739\n",
      "surface_total                 0.268500\n",
      "surface_covered               0.267816\n",
      "property_type_Casa            0.002549\n",
      "property_type_Departamento    0.010970\n",
      "property_type_PH              0.010356\n",
      "barrios_enc                   0.348482\n",
      "dtype: float64\n",
      "Features mas importantes arbol: 5\n",
      "rooms                         0.034443\n",
      "bedrooms                      0.028062\n",
      "bathrooms                     0.013357\n",
      "surface_total                 0.269790\n",
      "surface_covered               0.243051\n",
      "property_type_Casa            0.002921\n",
      "property_type_Departamento    0.007269\n",
      "property_type_PH              0.009002\n",
      "barrios_enc                   0.392105\n",
      "dtype: float64\n",
      "Features mas importantes arbol: 6\n",
      "rooms                         0.022638\n",
      "bedrooms                      0.018397\n",
      "bathrooms                     0.004424\n",
      "surface_total                 0.286144\n",
      "surface_covered               0.256945\n",
      "property_type_Casa            0.001668\n",
      "property_type_Departamento    0.007518\n",
      "property_type_PH              0.008713\n",
      "barrios_enc                   0.393553\n",
      "dtype: float64\n",
      "Features mas importantes arbol: 7\n",
      "rooms                         0.012442\n",
      "bedrooms                      0.012990\n",
      "bathrooms                     0.015484\n",
      "surface_total                 0.315839\n",
      "surface_covered               0.308415\n",
      "property_type_Casa            0.001751\n",
      "property_type_Departamento    0.003541\n",
      "property_type_PH              0.003903\n",
      "barrios_enc                   0.325635\n",
      "dtype: float64\n",
      "Features mas importantes arbol: 8\n",
      "rooms                         0.021212\n",
      "bedrooms                      0.020628\n",
      "bathrooms                     0.022613\n",
      "surface_total                 0.276891\n",
      "surface_covered               0.273017\n",
      "property_type_Casa            0.001862\n",
      "property_type_Departamento    0.009113\n",
      "property_type_PH              0.006819\n",
      "barrios_enc                   0.367845\n",
      "dtype: float64\n"
     ]
    }
   ],
   "source": [
    "lista_arboles=np.arange(0,9)\n",
    "\n",
    "for i in lista_arboles:\n",
    "    print(f'Features mas importantes arbol: {i}')\n",
    "    feature_inportence=pd.Series(clf[i].feature_importances_,index=X_train.columns)\n",
    "    print(feature_inportence)"
   ]
  },
  {
   "cell_type": "markdown",
   "metadata": {
    "colab_type": "text",
    "id": "5wKUMu9W72zx"
   },
   "source": [
    "En cuanto a la distribución de los errores es muy grande en train y test, esto se debe a que como comenté anteriormente no pude optimizar al modelo agregando mas árboles para estimar"
   ]
  },
  {
   "cell_type": "code",
   "execution_count": 72,
   "metadata": {
    "colab": {
     "base_uri": "https://localhost:8080/",
     "height": 0
    },
    "colab_type": "code",
    "id": "sovFnURz72zx",
    "outputId": "10d74a60-d0cc-49d2-daa7-4c8ac2e7aaf6"
   },
   "outputs": [
    {
     "data": {
      "image/png": "[encoded data removed]",
      "text/plain": [
       "<Figure size 1152x576 with 2 Axes>"
      ]
     },
     "metadata": {
      "needs_background": "light",
      "tags": []
     },
     "output_type": "display_data"
    }
   ],
   "source": [
    "plt.figure(figsize = (16,8))\n",
    "\n",
    "plt.subplot(1,2,1)\n",
    "sns.distplot(y_train - y_train_pred, bins = 20, label = 'train')\n",
    "sns.distplot(y_test - y_test_pred, bins = 20, label = 'test')\n",
    "plt.xlabel('errores')\n",
    "plt.legend()\n",
    "\n",
    "\n",
    "ax = plt.subplot(1,2,2)\n",
    "ax.scatter(y_test,y_test_pred, s =2)\n",
    "    \n",
    "plt.xlabel('y (test)')\n",
    "plt.ylabel('y_pred (test)')\n",
    "    \n",
    "plt.tight_layout()\n",
    "plt.show()"
   ]
  },
  {
   "cell_type": "markdown",
   "metadata": {},
   "source": [
    "Por último evaluando los resultados de los diferentes modelos considero que los implementados en en punto B no son lo esperado, con el fin de simplificar el dataset para compararlo con los del Proyecto 1 y que se pueda correr con menos recursos, se eliminaron algunas columnas que podrían ser de utilidad como ser latutud y longitud, ya que por la amplitud de algunos barrios el precio de las propiedades puede variar considerablemente, además se filtro solo por tres tipos de propiedades y para Capital Federal, de esta manera se armó un conjunto de datos reducido excluyendo información que podría haber haber ayudado a los modelos a predecir mejor.\n",
    "\n",
    "Otro punto donde se podría considerar que se podría mejorar y por ende pudo ser una falla, es en el momento de aplicar la tranformación a la varible l3 usando Label Encoder, en este punto si bien aclaré que l3 no es una variable ordinal, usé ese método ya que usando OneHotEncoder generaría gran cantidad de variables, de hecho lo había probado en el punto A y no generaba mejores resultados, esto se hizo con el fin de no agregar complejidad, pero no se probó luego en el punto B.\n",
    "\n",
    "De acuerdo a lo mencionado en los párrafos anteriores, considero que si hubiera usado el dataset completo, no descartar las columnas latitud y longitud y aplicando OneHotEncoder a l3, hubiera obtenido un dataset con muchas columnas, pero si no obtubiese buenos resultados se podría aplicar reducción de dimensionalidad y probar nuevamente su desempeño.\n",
    "\n",
    "Otro tema sobre el cual ya hice mención y considero puede mejorar pero no lo hice por falta de recursos, es correr Random Forest con mas árboels y sin limitarles la profundidad por ejemplo, de manera que el modelo me diga en que punto encuentra el rendiminto óptimo, nombro Random porque es el que elegí pero sin dudas que también hubiese sido bueno correr otra técnica de ensamble como ser un XGBoost y compararlo con Forest."
   ]
  },
  {
   "cell_type": "markdown",
   "metadata": {
    "colab_type": "text",
    "id": "1SnrOiGE72zy"
   },
   "source": [
    "## Desafío opcional"
   ]
  },
  {
   "cell_type": "markdown",
   "metadata": {
    "colab_type": "text",
    "id": "C_2XDp0u72zy"
   },
   "source": [
    "En esta sección voy a usar Singular Value Decomposition (SVD) para aplicar reducción de dimensionalidad así luego poder aplicar una técnica de Clustering, si bien SVD corresponde a la parte A de transformación de datos lo hago en este apartado para que quede todo junto dentro del desafío opcional"
   ]
  },
  {
   "cell_type": "markdown",
   "metadata": {
    "colab_type": "text",
    "id": "HLfEdC_Q72zy"
   },
   "source": [
    "*Uso el dataset al cual se le aplicó el escalado de datos*"
   ]
  },
  {
   "cell_type": "code",
   "execution_count": 73,
   "metadata": {
    "colab": {
     "base_uri": "https://localhost:8080/",
     "height": 204
    },
    "colab_type": "code",
    "id": "cOfOQaNn72zz",
    "outputId": "52bf2264-7289-4af8-d318-1eabd43bb9c0"
   },
   "outputs": [
    {
     "data": {
      "text/html": [
       "<div>\n",
       "<style scoped>\n",
       "    .dataframe tbody tr th:only-of-type {\n",
       "        vertical-align: middle;\n",
       "    }\n",
       "\n",
       "    .dataframe tbody tr th {\n",
       "        vertical-align: top;\n",
       "    }\n",
       "\n",
       "    .dataframe thead th {\n",
       "        text-align: right;\n",
       "    }\n",
       "</style>\n",
       "<table border=\"1\" class=\"dataframe\">\n",
       "  <thead>\n",
       "    <tr style=\"text-align: right;\">\n",
       "      <th></th>\n",
       "      <th>l2</th>\n",
       "      <th>l3</th>\n",
       "      <th>rooms</th>\n",
       "      <th>bedrooms</th>\n",
       "      <th>bathrooms</th>\n",
       "      <th>surface_total</th>\n",
       "      <th>surface_covered</th>\n",
       "      <th>price</th>\n",
       "      <th>property_type</th>\n",
       "    </tr>\n",
       "  </thead>\n",
       "  <tbody>\n",
       "    <tr>\n",
       "      <th>1</th>\n",
       "      <td>Capital Federal</td>\n",
       "      <td>Boedo</td>\n",
       "      <td>-0.689694</td>\n",
       "      <td>-0.925024</td>\n",
       "      <td>1.270582</td>\n",
       "      <td>0.041585</td>\n",
       "      <td>-0.096376</td>\n",
       "      <td>159000.0</td>\n",
       "      <td>PH</td>\n",
       "    </tr>\n",
       "    <tr>\n",
       "      <th>2</th>\n",
       "      <td>Capital Federal</td>\n",
       "      <td>Palermo</td>\n",
       "      <td>-0.689694</td>\n",
       "      <td>-0.925024</td>\n",
       "      <td>-0.540584</td>\n",
       "      <td>-0.775756</td>\n",
       "      <td>-0.629588</td>\n",
       "      <td>125000.0</td>\n",
       "      <td>PH</td>\n",
       "    </tr>\n",
       "    <tr>\n",
       "      <th>3</th>\n",
       "      <td>Capital Federal</td>\n",
       "      <td>Palermo</td>\n",
       "      <td>-0.689694</td>\n",
       "      <td>-0.925024</td>\n",
       "      <td>-0.540584</td>\n",
       "      <td>0.531989</td>\n",
       "      <td>-0.424506</td>\n",
       "      <td>295000.0</td>\n",
       "      <td>PH</td>\n",
       "    </tr>\n",
       "    <tr>\n",
       "      <th>5</th>\n",
       "      <td>Capital Federal</td>\n",
       "      <td>Villa Crespo</td>\n",
       "      <td>-0.689694</td>\n",
       "      <td>-0.925024</td>\n",
       "      <td>-0.540584</td>\n",
       "      <td>-0.416126</td>\n",
       "      <td>-0.178409</td>\n",
       "      <td>150000.0</td>\n",
       "      <td>PH</td>\n",
       "    </tr>\n",
       "    <tr>\n",
       "      <th>6</th>\n",
       "      <td>Capital Federal</td>\n",
       "      <td>Villa Crespo</td>\n",
       "      <td>-0.689694</td>\n",
       "      <td>-0.925024</td>\n",
       "      <td>-0.540584</td>\n",
       "      <td>0.041585</td>\n",
       "      <td>0.395819</td>\n",
       "      <td>159500.0</td>\n",
       "      <td>PH</td>\n",
       "    </tr>\n",
       "  </tbody>\n",
       "</table>\n",
       "</div>"
      ],
      "text/plain": [
       "                l2            l3  ...     price  property_type\n",
       "1  Capital Federal         Boedo  ...  159000.0             PH\n",
       "2  Capital Federal       Palermo  ...  125000.0             PH\n",
       "3  Capital Federal       Palermo  ...  295000.0             PH\n",
       "5  Capital Federal  Villa Crespo  ...  150000.0             PH\n",
       "6  Capital Federal  Villa Crespo  ...  159500.0             PH\n",
       "\n",
       "[5 rows x 9 columns]"
      ]
     },
     "execution_count": 73,
     "metadata": {
      "tags": []
     },
     "output_type": "execute_result"
    }
   ],
   "source": [
    "data_svd=data_scaler.copy()\n",
    "data_svd.head()"
   ]
  },
  {
   "cell_type": "markdown",
   "metadata": {
    "colab_type": "text",
    "id": "H1do2B6z72z0"
   },
   "source": [
    "*Aplico la reducción*"
   ]
  },
  {
   "cell_type": "code",
   "execution_count": 74,
   "metadata": {
    "colab": {},
    "colab_type": "code",
    "id": "dtgK8cSC72z1"
   },
   "outputs": [],
   "source": [
    "SVD=TruncatedSVD(n_components=1, random_state=42)\n",
    "data_svd['cant_hab']=SVD.fit_transform(data_svd[['rooms','bathrooms','bedrooms']])\n",
    "data_svd['superficie']=SVD.fit_transform(data_svd[['surface_total','surface_covered']])"
   ]
  },
  {
   "cell_type": "code",
   "execution_count": 75,
   "metadata": {
    "colab": {
     "base_uri": "https://localhost:8080/",
     "height": 309
    },
    "colab_type": "code",
    "id": "T_buEQ3A72z3",
    "outputId": "3529bcfc-68de-46ca-9d75-0943670b3733"
   },
   "outputs": [
    {
     "data": {
      "text/html": [
       "<div>\n",
       "<style scoped>\n",
       "    .dataframe tbody tr th:only-of-type {\n",
       "        vertical-align: middle;\n",
       "    }\n",
       "\n",
       "    .dataframe tbody tr th {\n",
       "        vertical-align: top;\n",
       "    }\n",
       "\n",
       "    .dataframe thead th {\n",
       "        text-align: right;\n",
       "    }\n",
       "</style>\n",
       "<table border=\"1\" class=\"dataframe\">\n",
       "  <thead>\n",
       "    <tr style=\"text-align: right;\">\n",
       "      <th></th>\n",
       "      <th>l2</th>\n",
       "      <th>l3</th>\n",
       "      <th>rooms</th>\n",
       "      <th>bedrooms</th>\n",
       "      <th>bathrooms</th>\n",
       "      <th>surface_total</th>\n",
       "      <th>surface_covered</th>\n",
       "      <th>price</th>\n",
       "      <th>property_type</th>\n",
       "      <th>cant_hab</th>\n",
       "      <th>superficie</th>\n",
       "    </tr>\n",
       "  </thead>\n",
       "  <tbody>\n",
       "    <tr>\n",
       "      <th>1</th>\n",
       "      <td>Capital Federal</td>\n",
       "      <td>Boedo</td>\n",
       "      <td>-0.689694</td>\n",
       "      <td>-0.925024</td>\n",
       "      <td>1.270582</td>\n",
       "      <td>0.041585</td>\n",
       "      <td>-0.096376</td>\n",
       "      <td>159000.0</td>\n",
       "      <td>PH</td>\n",
       "      <td>-0.440944</td>\n",
       "      <td>-0.038743</td>\n",
       "    </tr>\n",
       "    <tr>\n",
       "      <th>2</th>\n",
       "      <td>Capital Federal</td>\n",
       "      <td>Palermo</td>\n",
       "      <td>-0.689694</td>\n",
       "      <td>-0.925024</td>\n",
       "      <td>-0.540584</td>\n",
       "      <td>-0.775756</td>\n",
       "      <td>-0.629588</td>\n",
       "      <td>125000.0</td>\n",
       "      <td>PH</td>\n",
       "      <td>-1.263032</td>\n",
       "      <td>-0.993728</td>\n",
       "    </tr>\n",
       "    <tr>\n",
       "      <th>3</th>\n",
       "      <td>Capital Federal</td>\n",
       "      <td>Palermo</td>\n",
       "      <td>-0.689694</td>\n",
       "      <td>-0.925024</td>\n",
       "      <td>-0.540584</td>\n",
       "      <td>0.531989</td>\n",
       "      <td>-0.424506</td>\n",
       "      <td>295000.0</td>\n",
       "      <td>PH</td>\n",
       "      <td>-1.263032</td>\n",
       "      <td>0.076002</td>\n",
       "    </tr>\n",
       "    <tr>\n",
       "      <th>5</th>\n",
       "      <td>Capital Federal</td>\n",
       "      <td>Villa Crespo</td>\n",
       "      <td>-0.689694</td>\n",
       "      <td>-0.925024</td>\n",
       "      <td>-0.540584</td>\n",
       "      <td>-0.416126</td>\n",
       "      <td>-0.178409</td>\n",
       "      <td>150000.0</td>\n",
       "      <td>PH</td>\n",
       "      <td>-1.263032</td>\n",
       "      <td>-0.420400</td>\n",
       "    </tr>\n",
       "    <tr>\n",
       "      <th>6</th>\n",
       "      <td>Capital Federal</td>\n",
       "      <td>Villa Crespo</td>\n",
       "      <td>-0.689694</td>\n",
       "      <td>-0.925024</td>\n",
       "      <td>-0.540584</td>\n",
       "      <td>0.041585</td>\n",
       "      <td>0.395819</td>\n",
       "      <td>159500.0</td>\n",
       "      <td>PH</td>\n",
       "      <td>-1.263032</td>\n",
       "      <td>0.309291</td>\n",
       "    </tr>\n",
       "  </tbody>\n",
       "</table>\n",
       "</div>"
      ],
      "text/plain": [
       "                l2            l3     rooms  ...  property_type  cant_hab  superficie\n",
       "1  Capital Federal         Boedo -0.689694  ...             PH -0.440944   -0.038743\n",
       "2  Capital Federal       Palermo -0.689694  ...             PH -1.263032   -0.993728\n",
       "3  Capital Federal       Palermo -0.689694  ...             PH -1.263032    0.076002\n",
       "5  Capital Federal  Villa Crespo -0.689694  ...             PH -1.263032   -0.420400\n",
       "6  Capital Federal  Villa Crespo -0.689694  ...             PH -1.263032    0.309291\n",
       "\n",
       "[5 rows x 11 columns]"
      ]
     },
     "execution_count": 75,
     "metadata": {
      "tags": []
     },
     "output_type": "execute_result"
    }
   ],
   "source": [
    "data_svd.head()"
   ]
  },
  {
   "cell_type": "markdown",
   "metadata": {
    "colab_type": "text",
    "id": "n5PXjkkO72z4"
   },
   "source": [
    "*Copio el dataset y separo los datos sobre los que se aplicará K means*"
   ]
  },
  {
   "cell_type": "code",
   "execution_count": 76,
   "metadata": {
    "colab": {
     "base_uri": "https://localhost:8080/",
     "height": 34
    },
    "colab_type": "code",
    "id": "kwmIwiSf72z4",
    "outputId": "67a1633b-a653-4f77-c580-c863489a675c"
   },
   "outputs": [
    {
     "data": {
      "text/plain": [
       "(65681, 2)"
      ]
     },
     "execution_count": 76,
     "metadata": {
      "tags": []
     },
     "output_type": "execute_result"
    }
   ],
   "source": [
    "data_cluster=data_svd.copy()\n",
    "X = np.array(data_cluster[[\"cant_hab\",\"superficie\"]])\n",
    "X.shape"
   ]
  },
  {
   "cell_type": "markdown",
   "metadata": {
    "colab_type": "text",
    "id": "kUR12imp72z5"
   },
   "source": [
    "*Gráfica elbow o de codo para determinar el número óptimo de clústeres*"
   ]
  },
  {
   "cell_type": "code",
   "execution_count": 77,
   "metadata": {
    "colab": {
     "base_uri": "https://localhost:8080/",
     "height": 404
    },
    "colab_type": "code",
    "id": "4MfdFNrF72z6",
    "outputId": "234a2d40-59fe-40e4-b52f-4d8b5252ed05"
   },
   "outputs": [
    {
     "data": {
      "image/png": "[encoded data removed]",
      "text/plain": [
       "<Figure size 864x432 with 1 Axes>"
      ]
     },
     "metadata": {
      "needs_background": "light",
      "tags": []
     },
     "output_type": "display_data"
    }
   ],
   "source": [
    "Nc = range(1, 10)\n",
    "kmeans = [KMeans(n_clusters=i) for i in Nc]\n",
    "score = [kmeans[i].fit(X).score(X) for i in range(len(kmeans))]\n",
    "\n",
    "plt.figure(figsize=(12,6))\n",
    "plt.plot(Nc,score)\n",
    "plt.xlabel('Numero de Clusters')\n",
    "plt.ylabel('Score')\n",
    "plt.title('Curva Elbow')\n",
    "plt.show()"
   ]
  },
  {
   "cell_type": "markdown",
   "metadata": {
    "colab_type": "text",
    "id": "Eu7lWdPA72z9"
   },
   "source": [
    "*Aplico K means con K=3*"
   ]
  },
  {
   "cell_type": "code",
   "execution_count": 78,
   "metadata": {
    "colab": {
     "base_uri": "https://localhost:8080/",
     "height": 68
    },
    "colab_type": "code",
    "id": "18b7AGlu72z-",
    "outputId": "d26f7f62-bcf8-44bf-ea2a-d614a6f573f3"
   },
   "outputs": [
    {
     "name": "stdout",
     "output_type": "stream",
     "text": [
      "[[-1.39877652 -1.08031932]\n",
      " [ 0.53556261  0.19524001]\n",
      " [ 2.23423089  2.13699158]]\n"
     ]
    }
   ],
   "source": [
    "kmeans = KMeans(n_clusters=3).fit(X)\n",
    "centros = kmeans.cluster_centers_\n",
    "print(centros)"
   ]
  },
  {
   "cell_type": "code",
   "execution_count": 79,
   "metadata": {
    "colab": {
     "base_uri": "https://localhost:8080/",
     "height": 34
    },
    "colab_type": "code",
    "id": "-VFi6aNf72z_",
    "outputId": "f5c22fe2-02d2-40e9-cf2b-6e58b6406904"
   },
   "outputs": [
    {
     "name": "stdout",
     "output_type": "stream",
     "text": [
      "[1 0 0 ... 1 1 1]\n"
     ]
    }
   ],
   "source": [
    "etiquetas=kmeans.labels_\n",
    "print(etiquetas)"
   ]
  },
  {
   "cell_type": "markdown",
   "metadata": {
    "colab_type": "text",
    "id": "sc352HiP720A"
   },
   "source": [
    "*Etiqueto el dataset*"
   ]
  },
  {
   "cell_type": "code",
   "execution_count": 80,
   "metadata": {
    "colab": {},
    "colab_type": "code",
    "id": "qIz31i5_720B"
   },
   "outputs": [],
   "source": [
    "#asigno cada registro del dataset a uno de los clústers\n",
    "labels = kmeans.predict(X)\n",
    "data_cluster['label'] = labels"
   ]
  },
  {
   "cell_type": "code",
   "execution_count": 81,
   "metadata": {
    "colab": {
     "base_uri": "https://localhost:8080/",
     "height": 296
    },
    "colab_type": "code",
    "id": "VxhB6ZIr720C",
    "outputId": "9a5a0550-f071-48fe-a570-f85b0560de43"
   },
   "outputs": [
    {
     "data": {
      "image/png": "[encoded data removed]",
      "text/plain": [
       "<Figure size 432x288 with 1 Axes>"
      ]
     },
     "metadata": {
      "needs_background": "light",
      "tags": []
     },
     "output_type": "display_data"
    }
   ],
   "source": [
    "sns.scatterplot(data_cluster['cant_hab'], data_cluster['superficie'], hue = etiquetas )\n",
    "sns.scatterplot(centros[:, 0], centros[:, 1],color='red', marker=\"*\", s=500)\n",
    "plt.title('Cluster centroides')\n",
    "plt.show()"
   ]
  },
  {
   "cell_type": "markdown",
   "metadata": {
    "colab_type": "text",
    "id": "88N_E7Xx720D"
   },
   "source": [
    "*Compruebo cuantos registros hay en cada cluster*"
   ]
  },
  {
   "cell_type": "code",
   "execution_count": 82,
   "metadata": {
    "colab": {
     "base_uri": "https://localhost:8080/",
     "height": 102
    },
    "colab_type": "code",
    "id": "b0DWvZf5720D",
    "outputId": "6bbf0216-2bda-4975-863d-570bf598bfca"
   },
   "outputs": [
    {
     "data": {
      "text/plain": [
       "label\n",
       "0    29273\n",
       "1    23789\n",
       "2    12619\n",
       "dtype: int64"
      ]
     },
     "execution_count": 82,
     "metadata": {
      "tags": []
     },
     "output_type": "execute_result"
    }
   ],
   "source": [
    "data_cluster.groupby('label').size()"
   ]
  },
  {
   "cell_type": "code",
   "execution_count": 83,
   "metadata": {
    "colab": {
     "base_uri": "https://localhost:8080/",
     "height": 309
    },
    "colab_type": "code",
    "id": "lk7fVGmZ720E",
    "outputId": "ad57dd4a-eea9-4441-e848-658032e5d5dd"
   },
   "outputs": [
    {
     "data": {
      "text/html": [
       "<div>\n",
       "<style scoped>\n",
       "    .dataframe tbody tr th:only-of-type {\n",
       "        vertical-align: middle;\n",
       "    }\n",
       "\n",
       "    .dataframe tbody tr th {\n",
       "        vertical-align: top;\n",
       "    }\n",
       "\n",
       "    .dataframe thead th {\n",
       "        text-align: right;\n",
       "    }\n",
       "</style>\n",
       "<table border=\"1\" class=\"dataframe\">\n",
       "  <thead>\n",
       "    <tr style=\"text-align: right;\">\n",
       "      <th></th>\n",
       "      <th>l2</th>\n",
       "      <th>l3</th>\n",
       "      <th>rooms</th>\n",
       "      <th>bedrooms</th>\n",
       "      <th>bathrooms</th>\n",
       "      <th>surface_total</th>\n",
       "      <th>surface_covered</th>\n",
       "      <th>price</th>\n",
       "      <th>property_type</th>\n",
       "      <th>cant_hab</th>\n",
       "      <th>superficie</th>\n",
       "      <th>label</th>\n",
       "    </tr>\n",
       "  </thead>\n",
       "  <tbody>\n",
       "    <tr>\n",
       "      <th>1</th>\n",
       "      <td>Capital Federal</td>\n",
       "      <td>Boedo</td>\n",
       "      <td>-0.689694</td>\n",
       "      <td>-0.925024</td>\n",
       "      <td>1.270582</td>\n",
       "      <td>0.041585</td>\n",
       "      <td>-0.096376</td>\n",
       "      <td>159000.0</td>\n",
       "      <td>PH</td>\n",
       "      <td>-0.440944</td>\n",
       "      <td>-0.038743</td>\n",
       "      <td>1</td>\n",
       "    </tr>\n",
       "    <tr>\n",
       "      <th>2</th>\n",
       "      <td>Capital Federal</td>\n",
       "      <td>Palermo</td>\n",
       "      <td>-0.689694</td>\n",
       "      <td>-0.925024</td>\n",
       "      <td>-0.540584</td>\n",
       "      <td>-0.775756</td>\n",
       "      <td>-0.629588</td>\n",
       "      <td>125000.0</td>\n",
       "      <td>PH</td>\n",
       "      <td>-1.263032</td>\n",
       "      <td>-0.993728</td>\n",
       "      <td>0</td>\n",
       "    </tr>\n",
       "    <tr>\n",
       "      <th>3</th>\n",
       "      <td>Capital Federal</td>\n",
       "      <td>Palermo</td>\n",
       "      <td>-0.689694</td>\n",
       "      <td>-0.925024</td>\n",
       "      <td>-0.540584</td>\n",
       "      <td>0.531989</td>\n",
       "      <td>-0.424506</td>\n",
       "      <td>295000.0</td>\n",
       "      <td>PH</td>\n",
       "      <td>-1.263032</td>\n",
       "      <td>0.076002</td>\n",
       "      <td>0</td>\n",
       "    </tr>\n",
       "    <tr>\n",
       "      <th>5</th>\n",
       "      <td>Capital Federal</td>\n",
       "      <td>Villa Crespo</td>\n",
       "      <td>-0.689694</td>\n",
       "      <td>-0.925024</td>\n",
       "      <td>-0.540584</td>\n",
       "      <td>-0.416126</td>\n",
       "      <td>-0.178409</td>\n",
       "      <td>150000.0</td>\n",
       "      <td>PH</td>\n",
       "      <td>-1.263032</td>\n",
       "      <td>-0.420400</td>\n",
       "      <td>0</td>\n",
       "    </tr>\n",
       "    <tr>\n",
       "      <th>6</th>\n",
       "      <td>Capital Federal</td>\n",
       "      <td>Villa Crespo</td>\n",
       "      <td>-0.689694</td>\n",
       "      <td>-0.925024</td>\n",
       "      <td>-0.540584</td>\n",
       "      <td>0.041585</td>\n",
       "      <td>0.395819</td>\n",
       "      <td>159500.0</td>\n",
       "      <td>PH</td>\n",
       "      <td>-1.263032</td>\n",
       "      <td>0.309291</td>\n",
       "      <td>0</td>\n",
       "    </tr>\n",
       "  </tbody>\n",
       "</table>\n",
       "</div>"
      ],
      "text/plain": [
       "                l2            l3     rooms  ...  cant_hab  superficie  label\n",
       "1  Capital Federal         Boedo -0.689694  ... -0.440944   -0.038743      1\n",
       "2  Capital Federal       Palermo -0.689694  ... -1.263032   -0.993728      0\n",
       "3  Capital Federal       Palermo -0.689694  ... -1.263032    0.076002      0\n",
       "5  Capital Federal  Villa Crespo -0.689694  ... -1.263032   -0.420400      0\n",
       "6  Capital Federal  Villa Crespo -0.689694  ... -1.263032    0.309291      0\n",
       "\n",
       "[5 rows x 12 columns]"
      ]
     },
     "execution_count": 83,
     "metadata": {
      "tags": []
     },
     "output_type": "execute_result"
    }
   ],
   "source": [
    "data_cluster.head()"
   ]
  },
  {
   "cell_type": "markdown",
   "metadata": {
    "colab_type": "text",
    "id": "MvKz7SKN720G"
   },
   "source": [
    "*Reemplazo en valor de cada cluster por un nombre para luego poder visualizarlo*"
   ]
  },
  {
   "cell_type": "code",
   "execution_count": 84,
   "metadata": {
    "colab": {},
    "colab_type": "code",
    "id": "NFo46Is_720G"
   },
   "outputs": [],
   "source": [
    "data_cluster['label']=data_cluster['label'].replace(0,'Cluster0')\n",
    "data_cluster['label']=data_cluster['label'].replace(1,'Cluster1')\n",
    "data_cluster['label']=data_cluster['label'].replace(2,'Cluster2')"
   ]
  },
  {
   "cell_type": "code",
   "execution_count": 85,
   "metadata": {
    "colab": {
     "base_uri": "https://localhost:8080/",
     "height": 213
    },
    "colab_type": "code",
    "id": "PacZRTew720H",
    "outputId": "50566ca3-9107-4d32-ddd6-e8ffedd9640a"
   },
   "outputs": [
    {
     "data": {
      "text/html": [
       "<div>\n",
       "<style scoped>\n",
       "    .dataframe tbody tr th:only-of-type {\n",
       "        vertical-align: middle;\n",
       "    }\n",
       "\n",
       "    .dataframe tbody tr th {\n",
       "        vertical-align: top;\n",
       "    }\n",
       "\n",
       "    .dataframe thead th {\n",
       "        text-align: right;\n",
       "    }\n",
       "</style>\n",
       "<table border=\"1\" class=\"dataframe\">\n",
       "  <thead>\n",
       "    <tr style=\"text-align: right;\">\n",
       "      <th></th>\n",
       "      <th>l2</th>\n",
       "      <th>l3</th>\n",
       "      <th>rooms</th>\n",
       "      <th>bedrooms</th>\n",
       "      <th>bathrooms</th>\n",
       "      <th>surface_total</th>\n",
       "      <th>surface_covered</th>\n",
       "      <th>price</th>\n",
       "      <th>property_type</th>\n",
       "      <th>cant_hab</th>\n",
       "      <th>superficie</th>\n",
       "      <th>label</th>\n",
       "    </tr>\n",
       "  </thead>\n",
       "  <tbody>\n",
       "    <tr>\n",
       "      <th>1</th>\n",
       "      <td>Capital Federal</td>\n",
       "      <td>Boedo</td>\n",
       "      <td>-0.689694</td>\n",
       "      <td>-0.925024</td>\n",
       "      <td>1.270582</td>\n",
       "      <td>0.041585</td>\n",
       "      <td>-0.096376</td>\n",
       "      <td>159000.0</td>\n",
       "      <td>PH</td>\n",
       "      <td>-0.440944</td>\n",
       "      <td>-0.038743</td>\n",
       "      <td>Cluster1</td>\n",
       "    </tr>\n",
       "    <tr>\n",
       "      <th>2</th>\n",
       "      <td>Capital Federal</td>\n",
       "      <td>Palermo</td>\n",
       "      <td>-0.689694</td>\n",
       "      <td>-0.925024</td>\n",
       "      <td>-0.540584</td>\n",
       "      <td>-0.775756</td>\n",
       "      <td>-0.629588</td>\n",
       "      <td>125000.0</td>\n",
       "      <td>PH</td>\n",
       "      <td>-1.263032</td>\n",
       "      <td>-0.993728</td>\n",
       "      <td>Cluster0</td>\n",
       "    </tr>\n",
       "    <tr>\n",
       "      <th>3</th>\n",
       "      <td>Capital Federal</td>\n",
       "      <td>Palermo</td>\n",
       "      <td>-0.689694</td>\n",
       "      <td>-0.925024</td>\n",
       "      <td>-0.540584</td>\n",
       "      <td>0.531989</td>\n",
       "      <td>-0.424506</td>\n",
       "      <td>295000.0</td>\n",
       "      <td>PH</td>\n",
       "      <td>-1.263032</td>\n",
       "      <td>0.076002</td>\n",
       "      <td>Cluster0</td>\n",
       "    </tr>\n",
       "  </tbody>\n",
       "</table>\n",
       "</div>"
      ],
      "text/plain": [
       "                l2       l3     rooms  ...  cant_hab  superficie     label\n",
       "1  Capital Federal    Boedo -0.689694  ... -0.440944   -0.038743  Cluster1\n",
       "2  Capital Federal  Palermo -0.689694  ... -1.263032   -0.993728  Cluster0\n",
       "3  Capital Federal  Palermo -0.689694  ... -1.263032    0.076002  Cluster0\n",
       "\n",
       "[3 rows x 12 columns]"
      ]
     },
     "execution_count": 85,
     "metadata": {
      "tags": []
     },
     "output_type": "execute_result"
    }
   ],
   "source": [
    "data_cluster.head(3)"
   ]
  },
  {
   "cell_type": "code",
   "execution_count": 86,
   "metadata": {
    "colab": {
     "base_uri": "https://localhost:8080/",
     "height": 706
    },
    "colab_type": "code",
    "id": "KTDNssto720I",
    "outputId": "85398ca1-f195-4be6-f98d-399eeb224975"
   },
   "outputs": [
    {
     "data": {
      "image/png": "[encoded data removed]",
      "text/plain": [
       "<Figure size 1152x720 with 1 Axes>"
      ]
     },
     "metadata": {
      "needs_background": "light",
      "tags": []
     },
     "output_type": "display_data"
    }
   ],
   "source": [
    "plt.figure(figsize = (16,10))\n",
    "plt.subplot(1,1,1)\n",
    "ax2=sns.countplot(x=\"l3\",hue=\"label\",data=data_cluster,order=data_cluster['l3'].value_counts().index)\n",
    "ax2.set_xticklabels(ax2.get_xticklabels(), rotation=90, ha=\"center\")\n",
    "plt.title('Totales de Propiedad por Barrios y Clusters')\n",
    "plt.xlabel('Barrios')\n",
    "plt.ylabel('Totales')\n",
    "\n",
    "plt.show()"
   ]
  },
  {
   "cell_type": "code",
   "execution_count": 87,
   "metadata": {
    "colab": {
     "base_uri": "https://localhost:8080/",
     "height": 673
    },
    "colab_type": "code",
    "id": "y0TWczTZ720J",
    "outputId": "b6e8946f-d62a-486d-8019-38fe3a5d0fee"
   },
   "outputs": [
    {
     "data": {
      "image/png": "[encoded data removed]",
      "text/plain": [
       "<Figure size 1152x720 with 1 Axes>"
      ]
     },
     "metadata": {
      "needs_background": "light",
      "tags": []
     },
     "output_type": "display_data"
    }
   ],
   "source": [
    "plt.figure(figsize = (16,10))\n",
    "plt.subplot(1,1,1)\n",
    "ax2=sns.countplot(x=\"property_type\",hue=\"label\",data=data_cluster,order=data_cluster['property_type'].value_counts().index)\n",
    "ax2.set_xticklabels(ax2.get_xticklabels(), rotation=90, ha=\"center\")\n",
    "plt.title('Totales de Propiedad por cluster y tipo de propiedad')\n",
    "plt.xlabel('Tipo de propiedades')\n",
    "plt.ylabel('Totales')\n",
    "\n",
    "plt.show()"
   ]
  },
  {
   "cell_type": "markdown",
   "metadata": {
    "colab_type": "text",
    "id": "vqQIaIPo720K"
   },
   "source": [
    "**Conclusiones**\n",
    "\n",
    "Desde mi punto de vista por lo observado en el gráfico de distribución de propiedades según clusters, las casas y los PH se parecen mas entre si porque predominan mas propiedades de los clusters 1 y 2, que son las que superficies y habitaciones, no así en los departamentos donde predominan propiedades del cluster 0 que son las de poca superficie y menor cantidad de habitaciones.\n",
    "\n",
    "En cuanto a los barrios la mayoría tiene un comportamiento similiar predominado las propiedades del cluster 0, ya que la mayoría de las propiedades del dataset son departamentos, Almagro dentro de los barrios con mas propiedade tiene mayoría de propiedades del cluster 2 sobre el 1."
   ]
  }
 ],
 "metadata": {
  "colab": {
   "name": "Proyecto 2 filtrado - V4.ipynb",
   "provenance": [],
   "toc_visible": true
  },
  "kernelspec": {
   "display_name": "Python 3",
   "language": "python",
   "name": "python3"
  },
  "language_info": {
   "codemirror_mode": {
    "name": "ipython",
    "version": 3
   },
   "file_extension": ".py",
   "mimetype": "text/x-python",
   "name": "python",
   "nbconvert_exporter": "python",
   "pygments_lexer": "ipython3",
   "version": "3.7.6"
  }
 },
 "nbformat": 4,
 "nbformat_minor": 1
}
